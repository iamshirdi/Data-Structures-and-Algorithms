{
  "nbformat": 4,
  "nbformat_minor": 0,
  "metadata": {
    "colab": {
      "name": "Undirected-Djikstram-Algorithm.ipynb",
      "provenance": [],
      "authorship_tag": "ABX9TyOLTux4IYGWId5wd4ooYs+f",
      "include_colab_link": true
    },
    "kernelspec": {
      "name": "python3",
      "display_name": "Python 3"
    },
    "language_info": {
      "name": "python"
    }
  },
  "cells": [
    {
      "cell_type": "markdown",
      "metadata": {
        "id": "view-in-github",
        "colab_type": "text"
      },
      "source": [
        "<a href=\"https://colab.research.google.com/github/iamshirdi/Data-Structures-and-Algorithms/blob/main/Undirected_Djikstram_Algorithm.ipynb\" target=\"_parent\"><img src=\"https://colab.research.google.com/assets/colab-badge.svg\" alt=\"Open In Colab\"/></a>"
      ]
    },
    {
      "cell_type": "code",
      "metadata": {
        "colab": {
          "base_uri": "https://localhost:8080/"
        },
        "id": "teFfgJ26Leiz",
        "outputId": "27f5a932-a28e-43a6-b929-5cbf01779194"
      },
      "source": [
        "!wget \"https://d3c33hcgiwev3.cloudfront.net/_dcf1d02570e57d23ab526b1e33ba6f12_dijkstraData.txt?Expires=1628294400&Signature=SgnRa6n-xv6AtVN7eWQqfkNFocq2yj0wMah68dXmLF0vzdkkYGrEAMpEuICwnMIzT6XEfBH0~woFdW7PdgzpVjFTK2RJPGksIB7ORVTqAwGjDFybyZHEtu~T7StKJrOeWfvP2pdaoFA9Vd65f3BMHxv8d4JxB0S2p1ffFW6dbss_&Key-Pair-Id=APKAJLTNE6QMUY6HBC5A\" -O \"file.txt\""
      ],
      "execution_count": 1,
      "outputs": [
        {
          "output_type": "stream",
          "text": [
            "--2021-08-05 13:13:57--  https://d3c33hcgiwev3.cloudfront.net/_dcf1d02570e57d23ab526b1e33ba6f12_dijkstraData.txt?Expires=1628294400&Signature=SgnRa6n-xv6AtVN7eWQqfkNFocq2yj0wMah68dXmLF0vzdkkYGrEAMpEuICwnMIzT6XEfBH0~woFdW7PdgzpVjFTK2RJPGksIB7ORVTqAwGjDFybyZHEtu~T7StKJrOeWfvP2pdaoFA9Vd65f3BMHxv8d4JxB0S2p1ffFW6dbss_&Key-Pair-Id=APKAJLTNE6QMUY6HBC5A\n",
            "Resolving d3c33hcgiwev3.cloudfront.net (d3c33hcgiwev3.cloudfront.net)... 13.32.80.49, 13.32.80.109, 13.32.80.218, ...\n",
            "Connecting to d3c33hcgiwev3.cloudfront.net (d3c33hcgiwev3.cloudfront.net)|13.32.80.49|:443... connected.\n",
            "HTTP request sent, awaiting response... 200 OK\n",
            "Length: 32237 (31K) [text/plain]\n",
            "Saving to: ‘file.txt’\n",
            "\n",
            "file.txt            100%[===================>]  31.48K  --.-KB/s    in 0.006s  \n",
            "\n",
            "2021-08-05 13:13:57 (4.92 MB/s) - ‘file.txt’ saved [32237/32237]\n",
            "\n"
          ],
          "name": "stdout"
        }
      ]
    },
    {
      "cell_type": "code",
      "metadata": {
        "id": "yW5Su83vLfY2"
      },
      "source": [
        "import time\n",
        "from ast import literal_eval\n",
        "\n",
        "def read_file(name,num_nodes=201):\n",
        "    \"\"\"Given the name of the file , return the graph in list.\n",
        "    \"\"\"\n",
        "    graph = [None]*num_nodes\n",
        "    \n",
        "    file = open(name)\n",
        "    data = file.readlines()\n",
        "    for line in data:\n",
        "        items = line.split()\n",
        "        graph[int(items[0])] = [literal_eval(a) for a in items[1:]]\n",
        "    \n",
        "    return graph\n",
        "        \n",
        "\n",
        "\n",
        "    \n",
        "def dijkstra(graph, num_nodes=201):\n",
        "    \"\"\"The Main function of Dijkatra's shortest path algorithm.\n",
        "    \"\"\"\n",
        "    \n",
        "    # Store the vertices that have been processed.\n",
        "    visited = []\n",
        "    visited.append(1)\n",
        "    \n",
        "    \n",
        "    # Store the distances to all other vertices. Initialize with 10000.\n",
        "    dis = [100000]*(num_nodes)\n",
        "    dis[1] = 0\n",
        "    \n",
        "    \n",
        "    while len(visited) < (num_nodes-1):\n",
        "        \n",
        "        # dictionary to store the edge and the distances\n",
        "        short_dist = {}\n",
        "        for node in visited:\n",
        "            for v in graph[node]:\n",
        "                if v[0] not in visited:\n",
        "                    short_dist[(node, v[0])] = dis[node] + v[1]\n",
        "        # find the shortest edge\n",
        "        (node, edge), dist = min(short_dist.items(), key=lambda x: x[1])  \n",
        "        dis[edge] = dist\n",
        "        visited.append(edge)\n",
        "        \n",
        "    return dis"
      ],
      "execution_count": 2,
      "outputs": []
    },
    {
      "cell_type": "code",
      "metadata": {
        "id": "WMoZ-0OmLl3t"
      },
      "source": [
        "gr = read_file('file.txt',num_nodes=201)"
      ],
      "execution_count": 3,
      "outputs": []
    },
    {
      "cell_type": "code",
      "metadata": {
        "id": "-okihpgyL0aj"
      },
      "source": [
        "A = dijkstra(gr, num_nodes=201)"
      ],
      "execution_count": 4,
      "outputs": []
    },
    {
      "cell_type": "code",
      "metadata": {
        "colab": {
          "base_uri": "https://localhost:8080/"
        },
        "id": "YrhOY6GdL5R1",
        "outputId": "e93d9cec-bd77-4a09-be0f-8fc383c03e14"
      },
      "source": [
        "data = [7,37,59,82,99,115,133,165,188,197]\n",
        "result=[]\n",
        "for i in data:\n",
        "  result.append(A[i])\n",
        "print(result)"
      ],
      "execution_count": 5,
      "outputs": [
        {
          "output_type": "stream",
          "text": [
            "[2599, 2610, 2947, 2052, 2367, 2399, 2029, 2442, 2505, 3068]\n"
          ],
          "name": "stdout"
        }
      ]
    },
    {
      "cell_type": "code",
      "metadata": {
        "colab": {
          "base_uri": "https://localhost:8080/"
        },
        "id": "BvuWO5rGL6OW",
        "outputId": "d215f968-3bf7-43bc-a7ab-a5ef04093f87"
      },
      "source": [
        "A"
      ],
      "execution_count": 6,
      "outputs": [
        {
          "output_type": "execute_result",
          "data": {
            "text/plain": [
              "[100000,\n",
              " 0,\n",
              " 2971,\n",
              " 2644,\n",
              " 3056,\n",
              " 2525,\n",
              " 2818,\n",
              " 2599,\n",
              " 1875,\n",
              " 745,\n",
              " 3205,\n",
              " 1551,\n",
              " 2906,\n",
              " 2394,\n",
              " 1803,\n",
              " 2942,\n",
              " 1837,\n",
              " 3111,\n",
              " 2284,\n",
              " 1044,\n",
              " 2351,\n",
              " 3630,\n",
              " 4028,\n",
              " 2650,\n",
              " 3653,\n",
              " 2249,\n",
              " 2150,\n",
              " 1222,\n",
              " 2090,\n",
              " 3540,\n",
              " 2303,\n",
              " 3455,\n",
              " 3004,\n",
              " 2551,\n",
              " 2656,\n",
              " 998,\n",
              " 2236,\n",
              " 2610,\n",
              " 3548,\n",
              " 1851,\n",
              " 4091,\n",
              " 2732,\n",
              " 2040,\n",
              " 3312,\n",
              " 2142,\n",
              " 3438,\n",
              " 2937,\n",
              " 2979,\n",
              " 2757,\n",
              " 2437,\n",
              " 3152,\n",
              " 2503,\n",
              " 2817,\n",
              " 2420,\n",
              " 3369,\n",
              " 2862,\n",
              " 2609,\n",
              " 2857,\n",
              " 3668,\n",
              " 2947,\n",
              " 2592,\n",
              " 1676,\n",
              " 2573,\n",
              " 2498,\n",
              " 2047,\n",
              " 826,\n",
              " 3393,\n",
              " 2535,\n",
              " 4636,\n",
              " 3650,\n",
              " 743,\n",
              " 1265,\n",
              " 1539,\n",
              " 3007,\n",
              " 4286,\n",
              " 2720,\n",
              " 3220,\n",
              " 2298,\n",
              " 2795,\n",
              " 2806,\n",
              " 982,\n",
              " 2976,\n",
              " 2052,\n",
              " 3997,\n",
              " 2656,\n",
              " 1193,\n",
              " 2461,\n",
              " 1608,\n",
              " 3046,\n",
              " 3261,\n",
              " 2018,\n",
              " 2786,\n",
              " 647,\n",
              " 3542,\n",
              " 3415,\n",
              " 2186,\n",
              " 2398,\n",
              " 4248,\n",
              " 3515,\n",
              " 2367,\n",
              " 2970,\n",
              " 3536,\n",
              " 2478,\n",
              " 1826,\n",
              " 2551,\n",
              " 3368,\n",
              " 2303,\n",
              " 2540,\n",
              " 1169,\n",
              " 3140,\n",
              " 2317,\n",
              " 2535,\n",
              " 1759,\n",
              " 1899,\n",
              " 508,\n",
              " 2399,\n",
              " 3513,\n",
              " 2597,\n",
              " 2176,\n",
              " 1090,\n",
              " 2328,\n",
              " 2818,\n",
              " 1306,\n",
              " 2805,\n",
              " 2057,\n",
              " 2618,\n",
              " 1694,\n",
              " 3285,\n",
              " 1203,\n",
              " 676,\n",
              " 1820,\n",
              " 1445,\n",
              " 2468,\n",
              " 2029,\n",
              " 1257,\n",
              " 1533,\n",
              " 2417,\n",
              " 3599,\n",
              " 2494,\n",
              " 4101,\n",
              " 546,\n",
              " 1889,\n",
              " 2616,\n",
              " 2141,\n",
              " 2359,\n",
              " 648,\n",
              " 2682,\n",
              " 3464,\n",
              " 2873,\n",
              " 3109,\n",
              " 2183,\n",
              " 4159,\n",
              " 1832,\n",
              " 2080,\n",
              " 1831,\n",
              " 2001,\n",
              " 3013,\n",
              " 2143,\n",
              " 1376,\n",
              " 1627,\n",
              " 2403,\n",
              " 4772,\n",
              " 2556,\n",
              " 2124,\n",
              " 1693,\n",
              " 2442,\n",
              " 3814,\n",
              " 2630,\n",
              " 2038,\n",
              " 2776,\n",
              " 1365,\n",
              " 3929,\n",
              " 1990,\n",
              " 2069,\n",
              " 3558,\n",
              " 1432,\n",
              " 2279,\n",
              " 3829,\n",
              " 2435,\n",
              " 3691,\n",
              " 3027,\n",
              " 2345,\n",
              " 3807,\n",
              " 2145,\n",
              " 2703,\n",
              " 2884,\n",
              " 3806,\n",
              " 1151,\n",
              " 2505,\n",
              " 2340,\n",
              " 2596,\n",
              " 4123,\n",
              " 1737,\n",
              " 3136,\n",
              " 1073,\n",
              " 1707,\n",
              " 2417,\n",
              " 3068,\n",
              " 1724,\n",
              " 815,\n",
              " 2060]"
            ]
          },
          "metadata": {
            "tags": []
          },
          "execution_count": 6
        }
      ]
    },
    {
      "cell_type": "code",
      "metadata": {
        "id": "bsVuFTTbMITm"
      },
      "source": [
        ""
      ],
      "execution_count": 6,
      "outputs": []
    }
  ]
}