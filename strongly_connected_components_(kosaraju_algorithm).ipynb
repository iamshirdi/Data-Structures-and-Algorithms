{
  "nbformat": 4,
  "nbformat_minor": 0,
  "metadata": {
    "colab": {
      "name": "strongly-connected-components (kosaraju algorithm).ipynb",
      "provenance": [],
      "collapsed_sections": [],
      "authorship_tag": "ABX9TyMmt/49MGbeJYBww5VB+NSu",
      "include_colab_link": true
    },
    "kernelspec": {
      "name": "python3",
      "display_name": "Python 3"
    },
    "language_info": {
      "name": "python"
    },
    "accelerator": "TPU"
  },
  "cells": [
    {
      "cell_type": "markdown",
      "metadata": {
        "id": "view-in-github",
        "colab_type": "text"
      },
      "source": [
        "<a href=\"https://colab.research.google.com/github/iamshirdi/Data-Structures-and-Algorithms/blob/main/strongly_connected_components_(kosaraju_algorithm).ipynb\" target=\"_parent\"><img src=\"https://colab.research.google.com/assets/colab-badge.svg\" alt=\"Open In Colab\"/></a>"
      ]
    },
    {
      "cell_type": "code",
      "metadata": {
        "id": "jAp-uzOIGFiE",
        "colab": {
          "base_uri": "https://localhost:8080/"
        },
        "outputId": "3c49f8cf-fb81-4755-9876-e5f3319fbcbd"
      },
      "source": [
        "!rm \"file.txt\"\n",
        "!touch \"file.txt\"\n"
      ],
      "execution_count": 19,
      "outputs": [
        {
          "output_type": "stream",
          "text": [
            "rm: cannot remove 'file.txt': No such file or directory\n"
          ],
          "name": "stdout"
        }
      ]
    },
    {
      "cell_type": "code",
      "metadata": {
        "colab": {
          "base_uri": "https://localhost:8080/"
        },
        "id": "g7O4T3Ny1Jdq",
        "outputId": "fa6e9907-c288-4c71-d8bc-2fed32476f89"
      },
      "source": [
        "!ls"
      ],
      "execution_count": 20,
      "outputs": [
        {
          "output_type": "stream",
          "text": [
            "file.txt  sample_data  sample_test.txt\n"
          ],
          "name": "stdout"
        }
      ]
    },
    {
      "cell_type": "code",
      "metadata": {
        "id": "KvdG3v3OG42r"
      },
      "source": [
        "!echo \"1 4\" >> file.txt\n",
        "\n",
        "!echo \"2 8\" >> file.txt\n",
        "\n",
        "!echo \"3 6\" >> file.txt\n",
        "\n",
        "!echo \"8 6\" >> file.txt\n",
        "!echo \"8 5\" >> file.txt\n",
        "\n",
        "\n",
        "!echo \"4 7\" >> file.txt\n",
        "\n",
        "!echo \"5 2\" >> file.txt\n",
        "\n",
        "!echo \"6 9\" >> file.txt\n",
        "\n",
        "!echo \"7 1\" >> file.txt\n",
        "\n",
        "\n",
        "\n",
        "!echo \"9 7\" >> file.txt\n",
        "!echo \"9 3\" >> file.txt\n",
        "\n"
      ],
      "execution_count": 21,
      "outputs": []
    },
    {
      "cell_type": "markdown",
      "metadata": {
        "id": "G7miWDwXO7aw"
      },
      "source": [
        "<html> <img src =\"https://github.com/iamshirdi/Data-Structures-and-Algorithms/raw/main/graphs-data-structures/Kosaraju%20Algorithm.PNG\"> </html>"
      ]
    },
    {
      "cell_type": "code",
      "metadata": {
        "colab": {
          "base_uri": "https://localhost:8080/"
        },
        "id": "7aqQsSLgGRY2",
        "outputId": "684f455f-689d-45f2-8663-a74b9e0ec801"
      },
      "source": [
        "!cat file.txt"
      ],
      "execution_count": 4,
      "outputs": [
        {
          "output_type": "stream",
          "text": [
            "1 4\n",
            "2 8\n",
            "3 6\n",
            "8 6\n",
            "8 5\n",
            "4 7\n",
            "5 2\n",
            "6 9\n",
            "7 1\n",
            "9 7\n",
            "9 3\n"
          ],
          "name": "stdout"
        }
      ]
    },
    {
      "cell_type": "code",
      "metadata": {
        "id": "_4zcky5EJs7o",
        "colab": {
          "base_uri": "https://localhost:8080/"
        },
        "outputId": "10c8b156-6e43-4551-a89f-44d88d004f66"
      },
      "source": [
        "# !wget --no-check-certificate \"https://docs.google.com/uc?export=download&id=1RF1ClOIDjMvlfEy7REcf1SsBp5uiio3c\" -O \"sample_test.txt\"\n",
        "!wget --no-check-certificate \"https://docs.google.com/uc?export=download&id=1i96QKdlZY8h1DvfEVGU5eowTuORksQok\" -O \"sample_test.txt\""
      ],
      "execution_count": 77,
      "outputs": [
        {
          "output_type": "stream",
          "text": [
            "--2021-07-30 18:33:09--  https://docs.google.com/uc?export=download&id=1i96QKdlZY8h1DvfEVGU5eowTuORksQok\n",
            "Resolving docs.google.com (docs.google.com)... 142.250.125.100, 142.250.125.102, 142.250.125.101, ...\n",
            "Connecting to docs.google.com (docs.google.com)|142.250.125.100|:443... connected.\n",
            "HTTP request sent, awaiting response... 302 Moved Temporarily\n",
            "Location: https://doc-0g-9k-docs.googleusercontent.com/docs/securesc/ha0ro937gcuc7l7deffksulhg5h7mbp1/jguhfdcf7kbann61e0l06488tk8ibhmm/1627669950000/08124993498519687562/*/1i96QKdlZY8h1DvfEVGU5eowTuORksQok?e=download [following]\n",
            "Warning: wildcards not supported in HTTP.\n",
            "--2021-07-30 18:33:10--  https://doc-0g-9k-docs.googleusercontent.com/docs/securesc/ha0ro937gcuc7l7deffksulhg5h7mbp1/jguhfdcf7kbann61e0l06488tk8ibhmm/1627669950000/08124993498519687562/*/1i96QKdlZY8h1DvfEVGU5eowTuORksQok?e=download\n",
            "Resolving doc-0g-9k-docs.googleusercontent.com (doc-0g-9k-docs.googleusercontent.com)... 74.125.124.132, 2607:f8b0:4001:c14::84\n",
            "Connecting to doc-0g-9k-docs.googleusercontent.com (doc-0g-9k-docs.googleusercontent.com)|74.125.124.132|:443... connected.\n",
            "HTTP request sent, awaiting response... 200 OK\n",
            "Length: 55 [text/plain]\n",
            "Saving to: ‘sample_test.txt’\n",
            "\n",
            "sample_test.txt     100%[===================>]      55  --.-KB/s    in 0s      \n",
            "\n",
            "2021-07-30 18:33:10 (2.79 MB/s) - ‘sample_test.txt’ saved [55/55]\n",
            "\n"
          ],
          "name": "stdout"
        }
      ]
    },
    {
      "cell_type": "code",
      "metadata": {
        "colab": {
          "base_uri": "https://localhost:8080/"
        },
        "id": "V66Ul72csNlN",
        "outputId": "634c81c6-316f-491c-a42b-b4a401474a24"
      },
      "source": [
        "!cat sample_test.txt"
      ],
      "execution_count": 78,
      "outputs": [
        {
          "output_type": "stream",
          "text": [
            "1 2\r\n",
            "2 3\r\n",
            "3 1\r\n",
            "3 4\r\n",
            "5 4\r\n",
            "6 4\r\n",
            "8 6\r\n",
            "6 7\r\n",
            "7 8\r\n",
            "4 3\r\n",
            "4 6\r\n"
          ],
          "name": "stdout"
        }
      ]
    },
    {
      "cell_type": "code",
      "metadata": {
        "id": "VErnXLlKnfhV"
      },
      "source": [
        "# top 5 scc of sample textare 6,3,2,1,0\n",
        "## top 5 scc of sample text are 7,1,0,0,0"
      ],
      "execution_count": 3,
      "outputs": []
    },
    {
      "cell_type": "markdown",
      "metadata": {
        "id": "hYaenmN_pYIN"
      },
      "source": [
        "# Non-Recursive"
      ]
    },
    {
      "cell_type": "code",
      "metadata": {
        "id": "BU7_4sPhRACO"
      },
      "source": [
        ""
      ],
      "execution_count": 94,
      "outputs": []
    },
    {
      "cell_type": "code",
      "metadata": {
        "colab": {
          "base_uri": "https://localhost:8080/"
        },
        "id": "-BMbQEudpbXg",
        "outputId": "f63b0ecf-fa69-4dfd-8b61-8fef782a0f74"
      },
      "source": [
        "import os\n",
        "\"\"\"\n",
        "W1 Kosaraju Algorithm\n",
        "List Based Iterative Implementation to find sizes of strongly connected components\n",
        "\"\"\"\n",
        "\n",
        "########################################################\n",
        "# Data Structures\n",
        "\n",
        "# node labels range from 1 to 875714. 875715 was used because of the range operator... range(875715) goes up to 875714.\n",
        "num_nodes = 10\n",
        "\n",
        "# Adjacency representations of the graph and reverse graph\n",
        "gr = [[] for i in range(num_nodes)]\n",
        "r_gr = [[] for i in range(num_nodes)]\n",
        "\n",
        "# The list index represents the node. If node i is unvisited then visited[i] == False and vice versa\n",
        "visited = [False] * num_nodes\n",
        "\n",
        "# The list below holds info about sccs. The index is the scc leader and the value is the size of the scc.\n",
        "scc = [0] * num_nodes\n",
        "\n",
        "stack = []  # Stack for DFS\n",
        "order = []  # The finishing orders after the first pass\n",
        "\n",
        "\n",
        "########################################################\n",
        "# Importing the graphs\n",
        "file = open(\"./file.txt\", \"r\") # I named the input file file.txt, but you can name it whatever you wish\n",
        "data = file.readlines()\n",
        "\n",
        "for line in data:\n",
        "    items = line.split()\n",
        "    gr[int(items[0])] += [int(items[1])]\n",
        "    r_gr[int(items[1])] += [int(items[0])]\n",
        "\n",
        "print (\"reverse,graph\",r_gr)\n",
        "\n",
        "########################################################\n",
        "# DFS on reverse graph\n",
        "print(\"DFS on reverse graph...\")\n",
        "initial_list = range(1,num_nodes)[::-1]\n",
        "for node in initial_list:\n",
        "    loop = False # enter loop only if not visited\n",
        "    if  not visited[node]:\n",
        "      visited[node] = True\n",
        "      stack.append(node)\n",
        "      loop = True       \n",
        "      if len(r_gr[node])<1:\n",
        "        stack.pop()\n",
        "        order.append(node)\n",
        "        loop = False\n",
        "\n",
        "\n",
        "\n",
        "    while loop:\n",
        "      stack_node = stack[len(stack) -1] #get last one\n",
        "      print(\"stack,_node\",stack,stack_node)\n",
        "      head =r_gr[stack_node] #points to\n",
        "      #(also takes care of backtracking when reaches finishes)\n",
        "      for h in head:\n",
        "          Finish_flag = True  \n",
        "          print(\"length\",len(r_gr[stack_node]),r_gr[stack_node])\n",
        "\n",
        "      \n",
        "          if  h and not visited[h]:\n",
        "              Finish_flag = False\n",
        "              visited[h] = True\n",
        "              stack.append(h)  \n",
        "              if len(r_gr[h])<1:\n",
        "                stack.pop()\n",
        "                order.append(h)\n",
        "              break\n",
        "        \n",
        "\n",
        "          # finishing order\n",
        "          if Finish_flag and len(stack)>0 and h==head[-1]:\n",
        "              stack.pop()\n",
        "              # index finishing time and value for the node that has index fnishing time\n",
        "              order.append(stack_node)\n",
        "              print(\"order ...............\",order)\n",
        "          if not len(stack)>0:\n",
        "            loop = False\n",
        "\n"
      ],
      "execution_count": 95,
      "outputs": [
        {
          "output_type": "stream",
          "text": [
            "reverse,graph [[], [7], [5], [9], [1], [8], [3, 8], [4, 9], [2], [6]]\n",
            "DFS on reverse graph...\n",
            "stack,_node [9] 9\n",
            "length 1 [6]\n",
            "stack,_node [9, 6] 6\n",
            "length 2 [3, 8]\n",
            "stack,_node [9, 6, 3] 3\n",
            "length 1 [9]\n",
            "order ............... [3]\n",
            "stack,_node [9, 6] 6\n",
            "length 2 [3, 8]\n",
            "length 2 [3, 8]\n",
            "stack,_node [9, 6, 8] 8\n",
            "length 1 [2]\n",
            "stack,_node [9, 6, 8, 2] 2\n",
            "length 1 [5]\n",
            "stack,_node [9, 6, 8, 2, 5] 5\n",
            "length 1 [8]\n",
            "order ............... [3, 5]\n",
            "stack,_node [9, 6, 8, 2] 2\n",
            "length 1 [5]\n",
            "order ............... [3, 5, 2]\n",
            "stack,_node [9, 6, 8] 8\n",
            "length 1 [2]\n",
            "order ............... [3, 5, 2, 8]\n",
            "stack,_node [9, 6] 6\n",
            "length 2 [3, 8]\n",
            "length 2 [3, 8]\n",
            "order ............... [3, 5, 2, 8, 6]\n",
            "stack,_node [9] 9\n",
            "length 1 [6]\n",
            "order ............... [3, 5, 2, 8, 6, 9]\n",
            "stack,_node [7] 7\n",
            "length 2 [4, 9]\n",
            "stack,_node [7, 4] 4\n",
            "length 1 [1]\n",
            "stack,_node [7, 4, 1] 1\n",
            "length 1 [7]\n",
            "order ............... [3, 5, 2, 8, 6, 9, 1]\n",
            "stack,_node [7, 4] 4\n",
            "length 1 [1]\n",
            "order ............... [3, 5, 2, 8, 6, 9, 1, 4]\n",
            "stack,_node [7] 7\n",
            "length 2 [4, 9]\n",
            "length 2 [4, 9]\n",
            "order ............... [3, 5, 2, 8, 6, 9, 1, 4, 7]\n"
          ],
          "name": "stdout"
        }
      ]
    },
    {
      "cell_type": "code",
      "metadata": {
        "id": "1ynoKdNKy_bp"
      },
      "source": [
        ""
      ],
      "execution_count": 14,
      "outputs": []
    },
    {
      "cell_type": "markdown",
      "metadata": {
        "id": "myoyaeC8pQAF"
      },
      "source": [
        "# Recursive Graph"
      ]
    },
    {
      "cell_type": "code",
      "metadata": {
        "colab": {
          "base_uri": "https://localhost:8080/"
        },
        "id": "Qo8w6Dgno68P",
        "outputId": "bd7d63ad-77fd-46d7-879b-618ae7f2a456"
      },
      "source": [
        "import os\n",
        "\"\"\"\n",
        "W1 Kosaraju Algorithm\n",
        "List Based Iterative Implementation to find sizes of strongly connected components\n",
        "\"\"\"\n",
        "\n",
        "########################################################\n",
        "# Data Structures\n",
        "\n",
        "# node labels range from 1 to 875714. 875715 was used because of the range operator... range(875715) goes up to 875714.\n",
        "num_nodes = 10\n",
        "\n",
        "# Adjacency representations of the graph and reverse graph\n",
        "gr = [[] for i in range(num_nodes)]\n",
        "r_gr = [[] for i in range(num_nodes)]\n",
        "\n",
        "# The list index represents the node. If node i is unvisited then visited[i] == False and vice versa\n",
        "visited = [False] * num_nodes\n",
        "\n",
        "# The list below holds info about sccs. The index is the scc leader and the value is the size of the scc.\n",
        "scc = [0] * num_nodes\n",
        "\n",
        "stack = []  # Stack for DFS\n",
        "order = []  # The finishing orders after the first pass\n",
        "\n",
        "\n",
        "########################################################\n",
        "# Importing the graphs\n",
        "file = open(\"./file.txt\", \"r\") # I named the input file W1_SCC_edges.txt, but you can name it whatever you wish\n",
        "data = file.readlines()\n",
        "\n",
        "for line in data:\n",
        "    items = line.split()\n",
        "    gr[int(items[0])] += [int(items[1])]\n",
        "    r_gr[int(items[1])] += [int(items[0])]\n",
        "\n",
        "print (\"reverse,graph\",r_gr)\n",
        "\n",
        "########################################################\n",
        "# DFS on reverse graph\n",
        "print(\"DFS on reverse graph...\")\n",
        "initial_list = range(1,num_nodes)[::-1]\n",
        "def DFS(lst):\n",
        "  for node in lst:\n",
        "      loop = False\n",
        "      if  not visited[node]:\n",
        "        visited[node] = True\n",
        "        stack.append(node)\n",
        "        loop = True\n",
        "      while loop:\n",
        "        stack_node = stack[len(stack) -1]\n",
        "        print(\"stack,_node\",stack,stack_node)\n",
        "        Finish_flag = True \n",
        "        head =r_gr[stack_node]\n",
        "        #(also takes care of backtracking when reaches finishes)\n",
        "        print(\"...........\",r_gr[stack_node])\n",
        "        if len(head)>1:\n",
        "          print(\"length\",len(r_gr[stack_node]),r_gr[stack_node])\n",
        "          DFS(head)\n",
        "\n",
        "        \n",
        "        if  head and not visited[head[0]]:\n",
        "            Finish_flag = False\n",
        "            visited[head[0]] = True\n",
        "            stack.append(head[0])     \n",
        "            print(\"not visited \",stack)\n",
        "\n",
        "        # finishing order\n",
        "        if Finish_flag and len(stack)>0:\n",
        "            stack.pop()\n",
        "            # index finishing time and value for the node that has index fnishing time\n",
        "            order.append(stack_node)\n",
        "            print(\"order ...............\",order)\n",
        "        if not len(stack)>0:\n",
        "          loop = False\n",
        "    \n",
        "DFS (initial_list)\n"
      ],
      "execution_count": 96,
      "outputs": [
        {
          "output_type": "stream",
          "text": [
            "reverse,graph [[], [7], [5], [9], [1], [8], [3, 8], [4, 9], [2], [6]]\n",
            "DFS on reverse graph...\n",
            "stack,_node [9] 9\n",
            "........... [6]\n",
            "not visited  [9, 6]\n",
            "stack,_node [9, 6] 6\n",
            "........... [3, 8]\n",
            "length 2 [3, 8]\n",
            "stack,_node [9, 6, 3] 3\n",
            "........... [9]\n",
            "order ............... [3]\n",
            "stack,_node [9, 6] 6\n",
            "........... [3, 8]\n",
            "length 2 [3, 8]\n",
            "stack,_node [9, 6, 8] 8\n",
            "........... [2]\n",
            "not visited  [9, 6, 8, 2]\n",
            "stack,_node [9, 6, 8, 2] 2\n",
            "........... [5]\n",
            "not visited  [9, 6, 8, 2, 5]\n",
            "stack,_node [9, 6, 8, 2, 5] 5\n",
            "........... [8]\n",
            "order ............... [3, 5]\n",
            "stack,_node [9, 6, 8, 2] 2\n",
            "........... [5]\n",
            "order ............... [3, 5, 2]\n",
            "stack,_node [9, 6, 8] 8\n",
            "........... [2]\n",
            "order ............... [3, 5, 2, 8]\n",
            "stack,_node [9, 6] 6\n",
            "........... [3, 8]\n",
            "length 2 [3, 8]\n",
            "order ............... [3, 5, 2, 8, 6]\n",
            "stack,_node [9] 9\n",
            "........... [6]\n",
            "order ............... [3, 5, 2, 8, 6, 9]\n",
            "stack,_node [7] 7\n",
            "........... [4, 9]\n",
            "length 2 [4, 9]\n",
            "stack,_node [7, 4] 4\n",
            "........... [1]\n",
            "not visited  [7, 4, 1]\n",
            "stack,_node [7, 4, 1] 1\n",
            "........... [7]\n",
            "order ............... [3, 5, 2, 8, 6, 9, 1]\n",
            "stack,_node [7, 4] 4\n",
            "........... [1]\n",
            "order ............... [3, 5, 2, 8, 6, 9, 1, 4]\n",
            "stack,_node [7] 7\n",
            "........... [4, 9]\n",
            "length 2 [4, 9]\n",
            "order ............... [3, 5, 2, 8, 6, 9, 1, 4, 7]\n"
          ],
          "name": "stdout"
        }
      ]
    },
    {
      "cell_type": "code",
      "metadata": {
        "id": "i1DtgPE4uEUx"
      },
      "source": [
        ""
      ],
      "execution_count": null,
      "outputs": []
    },
    {
      "cell_type": "code",
      "metadata": {
        "colab": {
          "base_uri": "https://localhost:8080/"
        },
        "id": "ndgbt0Hyn9Uh",
        "outputId": "6c4b8ded-dbb6-4050-d7ff-45ca5a289344"
      },
      "source": [
        "# ########################################################\n",
        "# # DFS on original graph\n",
        "print(\"DFS on original graph...\")\n",
        "visited = [False] * len(visited)  # Resetting the visited variable\n",
        "order.reverse()  # The nodes should be visited in reverse finishing times-index\n",
        "\n",
        "for node in order:\n",
        "    \n",
        "    if  not visited[node]:\n",
        "        visited[node] = True\n",
        "        # The index is the scc leader and the value is the size of the scc.\n",
        "        scc[node] +=1\n",
        "        stack.append(node)\n",
        "\n",
        "    \n",
        "    while stack:\n",
        "        stack_node = stack[len(stack) -1]\n",
        "        stack.pop()\n",
        "\n",
        "        \n",
        "        for head in gr[stack_node]:\n",
        "    \n",
        "            if  not visited[head]:\n",
        "                visited[head] = True\n",
        "                scc[node] +=1\n",
        "                stack.append(head)\n",
        "    \n",
        "\n",
        "print(\"scc is \",scc)"
      ],
      "execution_count": 97,
      "outputs": [
        {
          "output_type": "stream",
          "text": [
            "DFS on original graph...\n",
            "scc is  [0, 0, 0, 0, 0, 0, 0, 3, 3, 3]\n"
          ],
          "name": "stdout"
        }
      ]
    },
    {
      "cell_type": "code",
      "metadata": {
        "colab": {
          "base_uri": "https://localhost:8080/"
        },
        "id": "97Al4I1jqM4g",
        "outputId": "8c69f0cd-051d-4f68-b6e1-1fdd12fcf78a"
      },
      "source": [
        "sorted(scc)[-5:]"
      ],
      "execution_count": 98,
      "outputs": [
        {
          "output_type": "execute_result",
          "data": {
            "text/plain": [
              "[0, 0, 3, 3, 3]"
            ]
          },
          "metadata": {
            "tags": []
          },
          "execution_count": 98
        }
      ]
    },
    {
      "cell_type": "markdown",
      "metadata": {
        "id": "C0q7dJGIIeWS"
      },
      "source": [
        "The file contains the edges of a directed graph. Vertices are labeled as positive integers from 1 to 875714. Every row indicates an edge, the vertex label in first column is the tail and the vertex label in second column is the head (recall the graph is directed, and the edges are directed from the first column vertex to the second column vertex). So for example, the 11^{th}11 \n",
        "th\n",
        "  row looks liks : \"2 47646\". This just means that the vertex with label 2 has an outgoing edge to the vertex with label 47646\n",
        "\n",
        "Your task is to code up the algorithm from the video lectures for computing strongly connected components (SCCs), and to run this algorithm on the given graph.\n",
        "\n",
        "Output Format: You should output the sizes of the 5 largest SCCs in the given graph, in decreasing order of sizes, separated by commas (avoid any spaces). So if your algorithm computes the sizes of the five largest SCCs to be 500, 400, 300, 200 and 100, then your answer should be \"500,400,300,200,100\" (without the quotes). If your algorithm finds less than 5 SCCs, then write 0 for the remaining terms. Thus, if your algorithm computes only 3 SCCs whose sizes are 400, 300, and 100, then your answer should be \"400,300,100,0,0\" (without the quotes).  (Note also that your answer should not have any spaces in it.)"
      ]
    },
    {
      "cell_type": "code",
      "metadata": {
        "colab": {
          "base_uri": "https://localhost:8080/"
        },
        "id": "b2Nnjj4WqJWt",
        "outputId": "4a1e5f00-a941-4fa7-c458-c4118304f78f"
      },
      "source": [
        "!wget \"https://d3c33hcgiwev3.cloudfront.net/_410e934e6553ac56409b2cb7096a44aa_SCC.txt?Expires=1627776000&Signature=h1N2w9NNz9um2UBUkFP544S0h4jaRrk72zSfNsricaECmVLb8qq4kLFmGe6MFceocQIRfNowZn-MMSVdeH4iOeh-zSllUMcN5D3D0Cn8f0aqX7bSSKCz0blz1Iy8Vng2db2AronB1f~tEkypWSV99eaAes4k51m6R4MP0u0OXME_&Key-Pair-Id=APKAJLTNE6QMUY6HBC5A\" -O data.txt"
      ],
      "execution_count": 89,
      "outputs": [
        {
          "output_type": "stream",
          "text": [
            "--2021-07-30 18:36:23--  https://d3c33hcgiwev3.cloudfront.net/_410e934e6553ac56409b2cb7096a44aa_SCC.txt?Expires=1627776000&Signature=h1N2w9NNz9um2UBUkFP544S0h4jaRrk72zSfNsricaECmVLb8qq4kLFmGe6MFceocQIRfNowZn-MMSVdeH4iOeh-zSllUMcN5D3D0Cn8f0aqX7bSSKCz0blz1Iy8Vng2db2AronB1f~tEkypWSV99eaAes4k51m6R4MP0u0OXME_&Key-Pair-Id=APKAJLTNE6QMUY6HBC5A\n",
            "Resolving d3c33hcgiwev3.cloudfront.net (d3c33hcgiwev3.cloudfront.net)... 13.225.71.167, 13.225.71.129, 13.225.71.203, ...\n",
            "Connecting to d3c33hcgiwev3.cloudfront.net (d3c33hcgiwev3.cloudfront.net)|13.225.71.167|:443... connected.\n",
            "HTTP request sent, awaiting response... 200 OK\n",
            "Length: 72653481 (69M) [text/plain]\n",
            "Saving to: ‘data.txt’\n",
            "\n",
            "data.txt            100%[===================>]  69.29M  32.3MB/s    in 2.1s    \n",
            "\n",
            "2021-07-30 18:36:27 (32.3 MB/s) - ‘data.txt’ saved [72653481/72653481]\n",
            "\n"
          ],
          "name": "stdout"
        }
      ]
    },
    {
      "cell_type": "code",
      "metadata": {
        "colab": {
          "base_uri": "https://localhost:8080/"
        },
        "id": "qMA6q0AgqQet",
        "outputId": "cb680fa6-ead7-495c-ee06-4cc97eff25a2"
      },
      "source": [
        "!head -5 \"data.txt\""
      ],
      "execution_count": 90,
      "outputs": [
        {
          "output_type": "stream",
          "text": [
            "1 1 \n",
            "1 2 \n",
            "1 5 \n",
            "1 6 \n",
            "1 7 \n"
          ],
          "name": "stdout"
        }
      ]
    },
    {
      "cell_type": "code",
      "metadata": {
        "colab": {
          "base_uri": "https://localhost:8080/"
        },
        "id": "bprVJN-KqKOk",
        "outputId": "0fca4451-ecea-444c-b71b-7a7c46c6c874"
      },
      "source": [
        "!tail -6 \"data.txt\""
      ],
      "execution_count": 91,
      "outputs": [
        {
          "output_type": "stream",
          "text": [
            "875714 542450 \n",
            "875714 542451 \n",
            "875714 542452 \n",
            "875714 13660 \n",
            "875714 9434 \n",
            "875714 542453 "
          ],
          "name": "stdout"
        }
      ]
    },
    {
      "cell_type": "code",
      "metadata": {
        "id": "rlrNA1iXs7B9"
      },
      "source": [
        ""
      ],
      "execution_count": 91,
      "outputs": []
    },
    {
      "cell_type": "code",
      "metadata": {
        "id": "0tD_u_JKu58u"
      },
      "source": [
        ""
      ],
      "execution_count": 91,
      "outputs": []
    },
    {
      "cell_type": "code",
      "metadata": {
        "colab": {
          "base_uri": "https://localhost:8080/"
        },
        "id": "avNtCFQ-xrv2",
        "outputId": "73d360d8-0f92-4881-e0c0-9fec306071da"
      },
      "source": [
        "import sys\n",
        "import threading\n",
        "import os\n",
        "\n",
        "sys.setrecursionlimit(2 ** 16)        \n",
        "\n",
        "\n",
        "\"\"\"\n",
        "W1 Kosaraju Algorithm\n",
        "List Based Iterative Implementation to find sizes of strongly connected components\n",
        "\"\"\"\n",
        "\n",
        "########################################################\n",
        "# Data Structures\n",
        "\n",
        "# node labels range from 1 to 875714. 875715 was used because of the range operator... range(875715) goes up to 875714.\n",
        "num_nodes = 875715\n",
        "\n",
        "# Adjacency representations of the graph and reverse graph\n",
        "gr = [[] for i in range(num_nodes)]\n",
        "r_gr = [[] for i in range(num_nodes)]\n",
        "\n",
        "# The list index represents the node. If node i is unvisited then visited[i] == False and vice versa\n",
        "visited = [False] * num_nodes\n",
        "\n",
        "# The list below holds info about sccs. The index is the scc leader and the value is the size of the scc.\n",
        "scc = [0] * num_nodes\n",
        "\n",
        "stack = []  # Stack for DFS\n",
        "order = []  # The finishing orders after the first pass\n",
        "\n",
        "\n",
        "########################################################\n",
        "# Importing the graphs\n",
        "file = open(\"./data.txt\", \"r\") # I named the input file W1_SCC_edges.txt, but you can name it whatever you wish\n",
        "data = file.readlines()\n",
        "\n",
        "for line in data:\n",
        "    items = line.split()\n",
        "    gr[int(items[0])] += [int(items[1])]\n",
        "    r_gr[int(items[1])] += [int(items[0])]\n",
        "\n",
        "\n",
        "\n",
        "########################################################\n",
        "# DFS on reverse graph\n",
        "print(\"DFS on Reverse Graph\")\n",
        "initial_list = range(1,num_nodes)[::-1]\n",
        "for node in initial_list:\n",
        "    loop = False # enter loop only if not visited\n",
        "    if  not visited[node]:\n",
        "      visited[node] = True\n",
        "      stack.append(node)\n",
        "      loop = True\n",
        "      if len(r_gr[node])<1:\n",
        "        stack.pop()\n",
        "        order.append(node)\n",
        "        loop = False\n",
        "    while loop:\n",
        "      stack_node = stack[len(stack) -1] #get last one\n",
        "      head =r_gr[stack_node] #points to\n",
        "      #(also takes care of backtracking when reaches finishes)\n",
        "      for h in head:\n",
        "          Finish_flag = True  \n",
        "          \n",
        "\n",
        "      \n",
        "          if  h and not visited[h]:\n",
        "              Finish_flag = False\n",
        "              visited[h] = True\n",
        "              stack.append(h)  \n",
        "              if len(r_gr[h])<1:\n",
        "                stack.pop()\n",
        "                order.append(h)\n",
        "              break\n",
        "        \n",
        "\n",
        "          # finishing order\n",
        "          if Finish_flag and len(stack)>0 and h==head[-1]:\n",
        "              stack.pop()\n",
        "              # index finishing time and value for the node that has index fnishing time\n",
        "              order.append(stack_node)\n",
        "\n",
        "          if not len(stack)>0:\n",
        "            loop = False\n",
        "\n",
        "# ########################################################\n",
        "\n",
        "# # DFS on original graph\n",
        "print(\"DFS on original graph...\")\n",
        "visited = [False] * len(visited)  # Resetting the visited variable\n",
        "order.reverse()  # The nodes should be visited in reverse finishing times-index\n",
        "\n",
        "for node in order:\n",
        "    \n",
        "    if  not visited[node]:\n",
        "        visited[node] = True\n",
        "        # The index is the scc leader and the value is the size of the scc.\n",
        "        scc[node] +=1\n",
        "        stack.append(node)\n",
        "\n",
        "    \n",
        "    while stack:\n",
        "        stack_node = stack[len(stack) -1]\n",
        "        stack.pop()\n",
        "\n",
        "        \n",
        "        for head in gr[stack_node]:\n",
        "    \n",
        "            if  not visited[head]:\n",
        "                visited[head] = True\n",
        "                scc[node] +=1\n",
        "                stack.append(head)\n",
        "    \n",
        "\n",
        "\n"
      ],
      "execution_count": 93,
      "outputs": [
        {
          "output_type": "stream",
          "text": [
            "DFS on Reverse Graph\n",
            "DFS on original graph...\n"
          ],
          "name": "stdout"
        }
      ]
    },
    {
      "cell_type": "code",
      "metadata": {
        "id": "9EJ6jaEHxvd1",
        "colab": {
          "base_uri": "https://localhost:8080/"
        },
        "outputId": "73ec2fec-7456-4790-dd5e-37bdc05a2cf2"
      },
      "source": [
        "sorted(scc)[-5:]"
      ],
      "execution_count": 94,
      "outputs": [
        {
          "output_type": "execute_result",
          "data": {
            "text/plain": [
              "[211, 313, 459, 968, 434821]"
            ]
          },
          "metadata": {
            "tags": []
          },
          "execution_count": 94
        }
      ]
    },
    {
      "cell_type": "code",
      "metadata": {
        "id": "QVkvWySox8Mf"
      },
      "source": [
        ""
      ],
      "execution_count": null,
      "outputs": []
    }
  ]
}