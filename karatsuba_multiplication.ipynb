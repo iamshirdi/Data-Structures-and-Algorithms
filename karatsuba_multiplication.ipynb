{
  "nbformat": 4,
  "nbformat_minor": 0,
  "metadata": {
    "colab": {
      "name": "karatsuba multiplication.ipynb",
      "provenance": []
    },
    "kernelspec": {
      "name": "python3",
      "display_name": "Python 3"
    },
    "language_info": {
      "name": "python"
    }
  },
  "cells": [
    {
      "cell_type": "code",
      "metadata": {
        "id": "0Ob1mvNmdwOf"
      },
      "source": [
        ""
      ],
      "execution_count": 55,
      "outputs": []
    },
    {
      "cell_type": "code",
      "metadata": {
        "id": "NbGMorZfdIdk"
      },
      "source": [
        "def countDigit(n):\n",
        "    if n/10 == 0:\n",
        "        return 1\n",
        "    return 1 + countDigit(n // 10)"
      ],
      "execution_count": 56,
      "outputs": []
    },
    {
      "cell_type": "code",
      "metadata": {
        "colab": {
          "base_uri": "https://localhost:8080/"
        },
        "id": "BX0D0_VcdjcN",
        "outputId": "2fef6dd0-ed5d-4e46-d33b-d6f42ef64ee3"
      },
      "source": [
        "c=countDigit(a)\n",
        "c"
      ],
      "execution_count": 57,
      "outputs": [
        {
          "output_type": "execute_result",
          "data": {
            "text/plain": [
              "65"
            ]
          },
          "metadata": {
            "tags": []
          },
          "execution_count": 57
        }
      ]
    },
    {
      "cell_type": "code",
      "metadata": {
        "id": "N17Q9JPCfKJo"
      },
      "source": [
        ""
      ],
      "execution_count": 57,
      "outputs": []
    },
    {
      "cell_type": "code",
      "metadata": {
        "id": "jchwile7gkq8"
      },
      "source": [
        ""
      ],
      "execution_count": 57,
      "outputs": []
    },
    {
      "cell_type": "code",
      "metadata": {
        "id": "tyiJzvpoc_p8"
      },
      "source": [
        "# x,y same length digits \n",
        "def mul(x,y,n):\n",
        "\n",
        "  #base case\n",
        "  if n==1:\n",
        "    return x*y\n",
        "\n",
        "  power1 = 10**int(n)\n",
        "  power2 = 10**int(n/2)\n",
        "  # print(\"power1: \",power1 ,\"power 2:\",power2)\n",
        "  a = int(x/power2)\n",
        "  b = int(x%power2)\n",
        "\n",
        "  len = int(n/2)\n",
        "\n",
        "  c = int(y/power2)\n",
        "  d = int(y%power2)\n",
        "  # print(\"lrngth:\" , len ,\"a:\",a , \"b:\",b)\n",
        "  # mul(num1,num2,len)\n",
        "  return power1*mul(a,c,len) + power2*(mul(a,d,len)+mul(b,c,len)) + mul(b,d,len)  \n",
        "\n"
      ],
      "execution_count": 58,
      "outputs": []
    },
    {
      "cell_type": "code",
      "metadata": {
        "id": "nqI7V99ntkLZ"
      },
      "source": [
        "a=1234\n",
        "b=5678   \n"
      ],
      "execution_count": 59,
      "outputs": []
    },
    {
      "cell_type": "code",
      "metadata": {
        "colab": {
          "base_uri": "https://localhost:8080/"
        },
        "id": "RsYapbsHtAIW",
        "outputId": "9cc4ca02-5ef1-4fcf-bc00-4647373e3984"
      },
      "source": [
        "mul(a,b,4)"
      ],
      "execution_count": 60,
      "outputs": [
        {
          "output_type": "execute_result",
          "data": {
            "text/plain": [
              "7006652"
            ]
          },
          "metadata": {
            "tags": []
          },
          "execution_count": 60
        }
      ]
    },
    {
      "cell_type": "code",
      "metadata": {
        "colab": {
          "base_uri": "https://localhost:8080/"
        },
        "id": "DT_c7x35tKN4",
        "outputId": "91cdce90-30ef-4725-e09e-f6260356880a"
      },
      "source": [
        "a*b"
      ],
      "execution_count": 61,
      "outputs": [
        {
          "output_type": "execute_result",
          "data": {
            "text/plain": [
              "7006652"
            ]
          },
          "metadata": {
            "tags": []
          },
          "execution_count": 61
        }
      ]
    },
    {
      "cell_type": "code",
      "metadata": {
        "id": "ote9v27gtM5m"
      },
      "source": [
        "a=3141592653589793238462643383279502884197169399375105820974944592000\n",
        "b=2718281828459045235360287471352662497757247093699959574966967627000\n",
        "\n",
        "\n"
      ],
      "execution_count": 62,
      "outputs": []
    },
    {
      "cell_type": "code",
      "metadata": {
        "colab": {
          "base_uri": "https://localhost:8080/"
        },
        "id": "tIOEuMhhvvv3",
        "outputId": "0ab50a32-faa2-40a2-a7e6-8b02cb069ac7"
      },
      "source": [
        "%%time\n",
        "a*b\n"
      ],
      "execution_count": 63,
      "outputs": [
        {
          "output_type": "stream",
          "text": [
            "CPU times: user 6 µs, sys: 1e+03 ns, total: 7 µs\n",
            "Wall time: 11 µs\n"
          ],
          "name": "stdout"
        },
        {
          "output_type": "execute_result",
          "data": {
            "text/plain": [
              "8539734222673567065463550869546574495034888535765114961879601127067743044893204848617875072216249073013374895871952806582723184000000"
            ]
          },
          "metadata": {
            "tags": []
          },
          "execution_count": 63
        }
      ]
    },
    {
      "cell_type": "code",
      "metadata": {
        "colab": {
          "base_uri": "https://localhost:8080/"
        },
        "id": "ZmWSHfNcvx6H",
        "outputId": "f4593668-2898-4751-9180-a1b8f9ea7d01"
      },
      "source": [
        "%%time\n",
        "mul(a,b,68)"
      ],
      "execution_count": 64,
      "outputs": [
        {
          "output_type": "stream",
          "text": [
            "CPU times: user 5.35 ms, sys: 0 ns, total: 5.35 ms\n",
            "Wall time: 6.63 ms\n"
          ],
          "name": "stdout"
        },
        {
          "output_type": "execute_result",
          "data": {
            "text/plain": [
              "85397340111025698474349739269739311660258883565854910925921732880651868663438739257855530873169602112674028570032930096582723184000000"
            ]
          },
          "metadata": {
            "tags": []
          },
          "execution_count": 64
        }
      ]
    },
    {
      "cell_type": "markdown",
      "metadata": {
        "id": "ToeN83JzwvCQ"
      },
      "source": [
        "\n",
        "- divide by 6 since we added 6 digits inititally for multiple 4 etc\n",
        "- katsurba multiplication is slower as mentioned\n",
        "\n",
        "\n"
      ]
    },
    {
      "cell_type": "code",
      "metadata": {
        "colab": {
          "base_uri": "https://localhost:8080/"
        },
        "id": "A0n2RMnCwFMR",
        "outputId": "7a3bb4ec-d0e8-49e7-a96b-04c9faed3582"
      },
      "source": [
        "a=3141592653589793238462643383279502884197169399375105820974944592\n",
        "b=2718281828459045235360287471352662497757247093699959574966967627\n",
        "a*b"
      ],
      "execution_count": 66,
      "outputs": [
        {
          "output_type": "execute_result",
          "data": {
            "text/plain": [
              "8539734222673567065463550869546574495034888535765114961879601127067743044893204848617875072216249073013374895871952806582723184"
            ]
          },
          "metadata": {
            "tags": []
          },
          "execution_count": 66
        }
      ]
    },
    {
      "cell_type": "code",
      "metadata": {
        "id": "2hV_xtntwQUW"
      },
      "source": [
        ""
      ],
      "execution_count": 66,
      "outputs": []
    }
  ]
}