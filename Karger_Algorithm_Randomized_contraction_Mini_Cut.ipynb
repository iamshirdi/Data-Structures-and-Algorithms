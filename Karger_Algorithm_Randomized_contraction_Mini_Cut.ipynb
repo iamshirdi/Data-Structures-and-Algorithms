{
  "nbformat": 4,
  "nbformat_minor": 0,
  "metadata": {
    "colab": {
      "name": "Karger Algorithm: Randomized contraction Mini Cut.ipynb",
      "provenance": [],
      "authorship_tag": "ABX9TyPDm+lt/wMrDSYSgahFT57E",
      "include_colab_link": true
    },
    "kernelspec": {
      "name": "python3",
      "display_name": "Python 3"
    },
    "language_info": {
      "name": "python"
    }
  },
  "cells": [
    {
      "cell_type": "markdown",
      "metadata": {
        "id": "view-in-github",
        "colab_type": "text"
      },
      "source": [
        "<a href=\"https://colab.research.google.com/github/iamshirdi/Data-Structures-and-Algorithms/blob/main/Karger_Algorithm_Randomized_contraction_Mini_Cut.ipynb\" target=\"_parent\"><img src=\"https://colab.research.google.com/assets/colab-badge.svg\" alt=\"Open In Colab\"/></a>"
      ]
    },
    {
      "cell_type": "code",
      "metadata": {
        "colab": {
          "base_uri": "https://localhost:8080/"
        },
        "id": "3TmdoeTOd1WT",
        "outputId": "d8250407-3a38-4a27-9398-74c2e7f0bd53"
      },
      "source": [
        "!wget \"https://d3c33hcgiwev3.cloudfront.net/_f370cd8b4d3482c940e4a57f489a200b_kargerMinCut.txt?Expires=1623974400&Signature=XboF0-4mXBoooskzH0gOnf488d~AC7zKsKBWUQNkM7wSsT-ESF0SlTKrWwFwiXsp2Gx3TetJtuBAvXmZU3qOyPJ4zt~AjU4N6kyRfU-7cOWyTJY8hJ9MSuhQk7D8bh-ECkZ1lxGsMLYiSOCz3jcoNO70IeK7EvUE76LUnnKrhic_&Key-Pair-Id=APKAJLTNE6QMUY6HBC5A\" -O file.txt"
      ],
      "execution_count": 1,
      "outputs": [
        {
          "output_type": "stream",
          "text": [
            "--2021-06-16 00:44:07--  https://d3c33hcgiwev3.cloudfront.net/_f370cd8b4d3482c940e4a57f489a200b_kargerMinCut.txt?Expires=1623974400&Signature=XboF0-4mXBoooskzH0gOnf488d~AC7zKsKBWUQNkM7wSsT-ESF0SlTKrWwFwiXsp2Gx3TetJtuBAvXmZU3qOyPJ4zt~AjU4N6kyRfU-7cOWyTJY8hJ9MSuhQk7D8bh-ECkZ1lxGsMLYiSOCz3jcoNO70IeK7EvUE76LUnnKrhic_&Key-Pair-Id=APKAJLTNE6QMUY6HBC5A\n",
            "Resolving d3c33hcgiwev3.cloudfront.net (d3c33hcgiwev3.cloudfront.net)... 13.32.80.218, 13.32.80.173, 13.32.80.109, ...\n",
            "Connecting to d3c33hcgiwev3.cloudfront.net (d3c33hcgiwev3.cloudfront.net)|13.32.80.218|:443... connected.\n",
            "HTTP request sent, awaiting response... 200 OK\n",
            "Length: 18570 (18K) [text/plain]\n",
            "Saving to: ‘file.txt’\n",
            "\n",
            "file.txt            100%[===================>]  18.13K  --.-KB/s    in 0.03s   \n",
            "\n",
            "2021-06-16 00:44:08 (670 KB/s) - ‘file.txt’ saved [18570/18570]\n",
            "\n"
          ],
          "name": "stdout"
        }
      ]
    },
    {
      "cell_type": "code",
      "metadata": {
        "colab": {
          "base_uri": "https://localhost:8080/"
        },
        "id": "cjU-wC05d99D",
        "outputId": "c449b10e-c482-434e-b680-547d8b6ddc25"
      },
      "source": [
        "!ls"
      ],
      "execution_count": 2,
      "outputs": [
        {
          "output_type": "stream",
          "text": [
            "file.txt  sample_data\n"
          ],
          "name": "stdout"
        }
      ]
    },
    {
      "cell_type": "markdown",
      "metadata": {
        "id": "O4Bi7xULeFzg"
      },
      "source": [
        "- The file contains the adjacency list representation of a simple undirected graph. There are 200 vertices labeled 1 to 200. The first column in the file represents the vertex label, and the particular row (other entries except the first column) tells all the vertices that the vertex is adjacent to. So for example, the 6th row looks like : \"6\t155\t56\t52\t120\t......\". This just means that the vertex with label 6 is adjacent to (i.e., shares an edge with) the vertices with labels 155,56,52,120,......,etc\n",
        "\n",
        "- To code and run the randomized contraction algorithm for the min cut problem and use it on the above graph to compute the min cut."
      ]
    },
    {
      "cell_type": "code",
      "metadata": {
        "colab": {
          "base_uri": "https://localhost:8080/"
        },
        "id": "UJjnqKWrd-Zi",
        "outputId": "55048fd7-fb71-4748-a016-359ad75d6d6c"
      },
      "source": [
        "!head -5 file.txt"
      ],
      "execution_count": 3,
      "outputs": [
        {
          "output_type": "stream",
          "text": [
            "1\t37\t79\t164\t155\t32\t87\t39\t113\t15\t18\t78\t175\t140\t200\t4\t160\t97\t191\t100\t91\t20\t69\t198\t196\t\r\n",
            "2\t123\t134\t10\t141\t13\t12\t43\t47\t3\t177\t101\t179\t77\t182\t117\t116\t36\t103\t51\t154\t162\t128\t30\t\r\n",
            "3\t48\t123\t134\t109\t41\t17\t159\t49\t136\t16\t130\t141\t29\t176\t2\t190\t66\t153\t157\t70\t114\t65\t173\t104\t194\t54\t\r\n",
            "4\t91\t171\t118\t125\t158\t76\t107\t18\t73\t140\t42\t193\t127\t100\t84\t121\t60\t81\t99\t80\t150\t55\t1\t35\t23\t93\t\r\n",
            "5\t193\t156\t102\t118\t175\t39\t124\t119\t19\t99\t160\t75\t20\t112\t37\t23\t145\t135\t146\t73\t35\t\r\n"
          ],
          "name": "stdout"
        }
      ]
    },
    {
      "cell_type": "code",
      "metadata": {
        "id": "6pb8d0JAiXcq",
        "colab": {
          "base_uri": "https://localhost:8080/"
        },
        "outputId": "7df2774b-fa20-4dcc-977a-3a5446b17657"
      },
      "source": [
        "import re\n",
        "import random\n",
        "\n",
        "# Load the file into a graph represented by a dict of lists\n",
        "def load_graph():\n",
        "    g = {}\n",
        "\n",
        "    f = open('file.txt')\n",
        "    lines = f.readlines()\n",
        "    f.close()\n",
        "\n",
        "    lines = map(lambda s: re.sub('\\s+',' ',str(s.strip('\\r\\n'))).strip(),lines)\n",
        "    lines = map(lambda s: s.split(' '),lines)\n",
        "\n",
        "    for line in lines:\n",
        "        g[int(line[0])] = list(map(lambda s: int(s),line[1:]))\n",
        "    \n",
        "    return g\n",
        "\n",
        "# Contract an edge between 2 vertices\n",
        "def contract_edge(edge):\n",
        "    global g \n",
        "    \n",
        "    # merge v2 into v1 and remove v2 from graph\n",
        "    v1l = g[edge[0]]\n",
        "    v1l.extend(g[edge[1]])\n",
        "    del g[edge[1]]\n",
        "    \n",
        "    #replace all occurnces of v2 value with v1\n",
        "    for k, l in g.items():\n",
        "        g[k] = [edge[0] if x == edge[1] else x for x in g[k]]\n",
        "    \n",
        "    # Remove all edges of v1 to itself(loops)\n",
        "    g[edge[0]] = [x for x in g[edge[0]] if x != edge[0]]\n",
        "    \n",
        "# Gets a random edge available in the current graph\n",
        "def get_random_edge():\n",
        "    v1 = list(g.keys()) [random.randint(0,len(g)-1)]\n",
        "    v2 = g[v1] [random.randint(0,len(g[v1])-1)]\n",
        "    return (v1,v2)\n",
        "\n",
        "minlist = []\n",
        "\n",
        "# Repeat 10 times to get a minimum\n",
        "for i in range(0,20):\n",
        "    g = load_graph()\n",
        "\n",
        "    # Keep contracting the graph until we have 2 vertices\n",
        "    while(len(g) > 2):\n",
        "        contract_edge(get_random_edge())\n",
        "    \n",
        "    minlist.append(len(g[list(g.keys())[0]]))\n",
        "\n",
        "print(min(minlist))"
      ],
      "execution_count": 16,
      "outputs": [
        {
          "output_type": "stream",
          "text": [
            "17\n"
          ],
          "name": "stdout"
        }
      ]
    },
    {
      "cell_type": "code",
      "metadata": {
        "id": "hTlYDn8eRpIl"
      },
      "source": [
        ""
      ],
      "execution_count": 13,
      "outputs": []
    },
    {
      "cell_type": "code",
      "metadata": {
        "id": "CO2PWfH0SLYs"
      },
      "source": [
        ""
      ],
      "execution_count": null,
      "outputs": []
    }
  ]
}