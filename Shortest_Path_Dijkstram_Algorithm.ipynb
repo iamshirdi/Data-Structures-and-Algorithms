{
  "nbformat": 4,
  "nbformat_minor": 0,
  "metadata": {
    "colab": {
      "name": "Shortest-Path-Dijkstram-Algorithm.ipynb",
      "provenance": [],
      "collapsed_sections": [],
      "authorship_tag": "ABX9TyPXcCM02Rrl27yMxIeFcvy6",
      "include_colab_link": true
    },
    "kernelspec": {
      "name": "python3",
      "display_name": "Python 3"
    },
    "language_info": {
      "name": "python"
    }
  },
  "cells": [
    {
      "cell_type": "markdown",
      "metadata": {
        "id": "view-in-github",
        "colab_type": "text"
      },
      "source": [
        "<a href=\"https://colab.research.google.com/github/iamshirdi/Data-Structures-and-Algorithms/blob/main/Shortest_Path_Dijkstram_Algorithm.ipynb\" target=\"_parent\"><img src=\"https://colab.research.google.com/assets/colab-badge.svg\" alt=\"Open In Colab\"/></a>"
      ]
    },
    {
      "cell_type": "code",
      "metadata": {
        "colab": {
          "base_uri": "https://localhost:8080/"
        },
        "id": "LU7I1W_pJuyR",
        "outputId": "c5fb9e02-a4e2-44a6-ddf3-54184b0bd486"
      },
      "source": [
        "!wget \"https://d3c33hcgiwev3.cloudfront.net/_dcf1d02570e57d23ab526b1e33ba6f12_dijkstraData.txt?Expires=1628294400&Signature=SgnRa6n-xv6AtVN7eWQqfkNFocq2yj0wMah68dXmLF0vzdkkYGrEAMpEuICwnMIzT6XEfBH0~woFdW7PdgzpVjFTK2RJPGksIB7ORVTqAwGjDFybyZHEtu~T7StKJrOeWfvP2pdaoFA9Vd65f3BMHxv8d4JxB0S2p1ffFW6dbss_&Key-Pair-Id=APKAJLTNE6QMUY6HBC5A\" -O \"file.txt\""
      ],
      "execution_count": 1,
      "outputs": [
        {
          "output_type": "stream",
          "text": [
            "--2021-08-05 12:28:08--  https://d3c33hcgiwev3.cloudfront.net/_dcf1d02570e57d23ab526b1e33ba6f12_dijkstraData.txt?Expires=1628294400&Signature=SgnRa6n-xv6AtVN7eWQqfkNFocq2yj0wMah68dXmLF0vzdkkYGrEAMpEuICwnMIzT6XEfBH0~woFdW7PdgzpVjFTK2RJPGksIB7ORVTqAwGjDFybyZHEtu~T7StKJrOeWfvP2pdaoFA9Vd65f3BMHxv8d4JxB0S2p1ffFW6dbss_&Key-Pair-Id=APKAJLTNE6QMUY6HBC5A\n",
            "Resolving d3c33hcgiwev3.cloudfront.net (d3c33hcgiwev3.cloudfront.net)... 13.32.80.173, 13.32.80.218, 13.32.80.49, ...\n",
            "Connecting to d3c33hcgiwev3.cloudfront.net (d3c33hcgiwev3.cloudfront.net)|13.32.80.173|:443... connected.\n",
            "HTTP request sent, awaiting response... 200 OK\n",
            "Length: 32237 (31K) [text/plain]\n",
            "Saving to: ‘file.txt’\n",
            "\n",
            "file.txt            100%[===================>]  31.48K  --.-KB/s    in 0.03s   \n",
            "\n",
            "2021-08-05 12:28:08 (1.17 MB/s) - ‘file.txt’ saved [32237/32237]\n",
            "\n"
          ],
          "name": "stdout"
        }
      ]
    },
    {
      "cell_type": "code",
      "metadata": {
        "colab": {
          "base_uri": "https://localhost:8080/"
        },
        "id": "aX6OhLPkKAii",
        "outputId": "364f5080-0993-49aa-9493-d79ec3436004"
      },
      "source": [
        "\n",
        "!ls"
      ],
      "execution_count": 2,
      "outputs": [
        {
          "output_type": "stream",
          "text": [
            "file.txt  sample_data\n"
          ],
          "name": "stdout"
        }
      ]
    },
    {
      "cell_type": "markdown",
      "metadata": {
        "id": "k3l_tComJ5Tk"
      },
      "source": [
        "**Directed**"
      ]
    },
    {
      "cell_type": "code",
      "metadata": {
        "colab": {
          "base_uri": "https://localhost:8080/"
        },
        "id": "ou6m2RUuKC53",
        "outputId": "66ab8872-ca6e-493d-b613-3417e4d7ca6a"
      },
      "source": [
        "!head -5 \"file.txt\""
      ],
      "execution_count": 3,
      "outputs": [
        {
          "output_type": "stream",
          "text": [
            "1\t80,982\t163,8164\t170,2620\t145,648\t200,8021\t173,2069\t92,647\t26,4122\t140,546\t11,1913\t160,6461\t27,7905\t40,9047\t150,2183\t61,9146\t159,7420\t198,1724\t114,508\t104,6647\t30,4612\t99,2367\t138,7896\t169,8700\t49,2437\t125,2909\t117,2597\t55,6399\t\r\n",
            "2\t42,1689\t127,9365\t5,8026\t170,9342\t131,7005\t172,1438\t34,315\t30,2455\t26,2328\t6,8847\t11,1873\t17,5409\t157,8643\t159,1397\t142,7731\t182,7908\t93,8177\t\r\n",
            "3\t57,1239\t101,3381\t43,7313\t41,7212\t91,2483\t31,3031\t167,3877\t106,6521\t76,7729\t122,9640\t144,285\t44,2165\t6,9006\t177,7097\t119,7711\t\r\n",
            "4\t162,3924\t70,5285\t195,2490\t72,6508\t126,2625\t121,7639\t31,399\t118,3626\t90,9446\t127,6808\t135,7582\t159,6133\t106,4769\t52,9267\t190,7536\t78,8058\t75,7044\t116,6771\t49,619\t107,4383\t89,6363\t54,313\t\r\n",
            "5\t200,4009\t112,1522\t25,3496\t23,9432\t64,7836\t56,8262\t120,1862\t2,8026\t90,8919\t142,1195\t81,2469\t182,8806\t17,2514\t83,8407\t146,5308\t147,1087\t51,22\t\r\n"
          ],
          "name": "stdout"
        }
      ]
    },
    {
      "cell_type": "code",
      "metadata": {
        "colab": {
          "base_uri": "https://localhost:8080/"
        },
        "id": "HxhcmFv7Qh_P",
        "outputId": "e1f20883-e4b0-4584-d82c-4946da92ed6b"
      },
      "source": [
        "!wget --no-check-certificate \"https://docs.google.com/uc?export=download&id=1LOQOyPJrVBXG0jnt0MO9Y4eT9jn_kQPs\" -O \"sample_test.txt\"\n"
      ],
      "execution_count": 16,
      "outputs": [
        {
          "output_type": "stream",
          "text": [
            "--2021-08-05 12:37:19--  https://docs.google.com/uc?export=download&id=1LOQOyPJrVBXG0jnt0MO9Y4eT9jn_kQPs\n",
            "Resolving docs.google.com (docs.google.com)... 172.217.193.100, 172.217.193.138, 172.217.193.101, ...\n",
            "Connecting to docs.google.com (docs.google.com)|172.217.193.100|:443... connected.\n",
            "HTTP request sent, awaiting response... 302 Moved Temporarily\n",
            "Location: https://doc-0o-30-docs.googleusercontent.com/docs/securesc/ha0ro937gcuc7l7deffksulhg5h7mbp1/2d760u7hhuik7gfmach2ffc0qqndeci0/1628166975000/09417273357474124366/*/1LOQOyPJrVBXG0jnt0MO9Y4eT9jn_kQPs?e=download [following]\n",
            "Warning: wildcards not supported in HTTP.\n",
            "--2021-08-05 12:37:19--  https://doc-0o-30-docs.googleusercontent.com/docs/securesc/ha0ro937gcuc7l7deffksulhg5h7mbp1/2d760u7hhuik7gfmach2ffc0qqndeci0/1628166975000/09417273357474124366/*/1LOQOyPJrVBXG0jnt0MO9Y4eT9jn_kQPs?e=download\n",
            "Resolving doc-0o-30-docs.googleusercontent.com (doc-0o-30-docs.googleusercontent.com)... 173.194.217.132, 2607:f8b0:400c:c13::84\n",
            "Connecting to doc-0o-30-docs.googleusercontent.com (doc-0o-30-docs.googleusercontent.com)|173.194.217.132|:443... connected.\n",
            "HTTP request sent, awaiting response... 200 OK\n",
            "Length: 86 [text/plain]\n",
            "Saving to: ‘sample_test.txt’\n",
            "\n",
            "sample_test.txt     100%[===================>]      86  --.-KB/s    in 0s      \n",
            "\n",
            "2021-08-05 12:37:20 (5.82 MB/s) - ‘sample_test.txt’ saved [86/86]\n",
            "\n"
          ],
          "name": "stdout"
        }
      ]
    },
    {
      "cell_type": "code",
      "metadata": {
        "colab": {
          "base_uri": "https://localhost:8080/"
        },
        "id": "lxW3vEK3ROD7",
        "outputId": "b0e11b2b-1cd7-47c4-90d2-1f6051597ed5"
      },
      "source": [
        "!cat  sample_test.txt"
      ],
      "execution_count": 17,
      "outputs": [
        {
          "output_type": "stream",
          "text": [
            "1\t2,1\t8,2\r\n",
            "2\t1,1\t3,1\r\n",
            "3\t2,1\t4,1\r\n",
            "4\t3,1\t5,1\r\n",
            "5\t4,1\t6,1\r\n",
            "6\t5,1\t7,1\r\n",
            "7\t6,1\t8,1\r\n",
            "8\t7,1\t1,2"
          ],
          "name": "stdout"
        }
      ]
    },
    {
      "cell_type": "code",
      "metadata": {
        "colab": {
          "base_uri": "https://localhost:8080/"
        },
        "id": "XZJyur1jKxHZ",
        "outputId": "12ae82b4-f45f-4f3e-c0a1-ba24390508e9"
      },
      "source": [
        "import os\n",
        "\n",
        "# node labels range from 1 to 200. \n",
        "num_nodes = 9\n",
        "\n",
        "# Adjacency representations of the graph and reverse graph\n",
        "gr = [0]*num_nodes\n",
        "A =gr [:] # shortest path default is 0 index is from which node\n",
        "X=[]\n",
        "########################################################\n",
        "# Importing the graphs\n",
        "file = open(\"./sample_test.txt\", \"r\")\n",
        "lines = file.readlines()\n",
        "for line in lines:\n",
        "  adj_nodes = line.split()\n",
        "  index = adj_nodes[0]\n",
        "  gr[int(index)] = [[int(adj_nodes[1].split(\",\")[0]),int(adj_nodes[1].split(\",\")[1])]]\n",
        "  for adj in adj_nodes[2:]:\n",
        "    lst = adj.split(\",\")\n",
        "    length = int(lst[1])\n",
        "    head = int(lst[0])\n",
        "    gr[int(index)].append([head,length])\n",
        "print(\"graph of node 1 is\", gr[1])\n"
      ],
      "execution_count": 43,
      "outputs": [
        {
          "output_type": "stream",
          "text": [
            "graph of node 1 is [[2, 1], [8, 2]]\n"
          ],
          "name": "stdout"
        }
      ]
    },
    {
      "cell_type": "code",
      "metadata": {
        "colab": {
          "base_uri": "https://localhost:8080/"
        },
        "id": "uOgcHtVSF_En",
        "outputId": "f3e3e89c-a9b7-434d-e44c-0842ea8bb242"
      },
      "source": [
        "gr[8]"
      ],
      "execution_count": 44,
      "outputs": [
        {
          "output_type": "execute_result",
          "data": {
            "text/plain": [
              "[[7, 1], [1, 2]]"
            ]
          },
          "metadata": {
            "tags": []
          },
          "execution_count": 44
        }
      ]
    },
    {
      "cell_type": "code",
      "metadata": {
        "colab": {
          "base_uri": "https://localhost:8080/"
        },
        "id": "XW0jVdQZKSHp",
        "outputId": "4b49f009-07a2-4755-ae13-2fe861f96353"
      },
      "source": [
        "X.append(1) # source vertex\n",
        "heap_keys ={}  #dictionary with node and length- shortest local length\n",
        "B=[] #shortest path route\n",
        "w=1 # source vertex\n",
        "tails = {}\n",
        "\n",
        "for i in range(1,num_nodes-1):\n",
        "\n",
        " \n",
        "\n",
        "  ########################################################\n",
        "  #local compute min only the newly added node w\n",
        "  for node in gr[w]: \n",
        "    if node[0] not in X:\n",
        "      print(node)\n",
        "      if node[0] not in heap_keys.keys(): \n",
        "        heap_keys[node[0]] = node[1] # create keys\n",
        "        tails[node[0]] = w\n",
        "      else: # check shortelest length if exists\n",
        "        if heap_keys[node[0]] > node[1]:\n",
        "          heap_keys[node[0]] = node[1] # update keys\n",
        "          tails[node[0]] = w\n",
        "      print(\"heap keys\",heap_keys)\n",
        "\n",
        "  ########################################################\n",
        "#global compute min\n",
        "  w = min(heap_keys, key=heap_keys.get) # get shortest path from V-X\n",
        "\n",
        "\n",
        "  A[w] =A[tails[w]] + heap_keys[w] # book keep or track shortest path. add previous shortest path and greedy minimum length between small v and w\n",
        "\n",
        "  #add w to x and delete from v-x or heap:   \n",
        "  del heap_keys[w]\n",
        "  X.append(w)\n",
        "  print(w,A,X)\n",
        "\n",
        "\n",
        "\n",
        "\n",
        "\n",
        "\n",
        "\n",
        "\n",
        "\n",
        "  \n",
        "\n",
        "\n",
        "\n"
      ],
      "execution_count": 45,
      "outputs": [
        {
          "output_type": "stream",
          "text": [
            "[2, 1]\n",
            "heap keys {2: 1}\n",
            "[8, 2]\n",
            "heap keys {2: 1, 8: 2}\n",
            "2 [0, 0, 1, 0, 0, 0, 0, 0, 0] [1, 2]\n",
            "[3, 1]\n",
            "heap keys {8: 2, 3: 1}\n",
            "3 [0, 0, 1, 2, 0, 0, 0, 0, 0] [1, 2, 3]\n",
            "[4, 1]\n",
            "heap keys {8: 2, 4: 1}\n",
            "4 [0, 0, 1, 2, 3, 0, 0, 0, 0] [1, 2, 3, 4]\n",
            "[5, 1]\n",
            "heap keys {8: 2, 5: 1}\n",
            "5 [0, 0, 1, 2, 3, 4, 0, 0, 0] [1, 2, 3, 4, 5]\n",
            "[6, 1]\n",
            "heap keys {8: 2, 6: 1}\n",
            "6 [0, 0, 1, 2, 3, 4, 5, 0, 0] [1, 2, 3, 4, 5, 6]\n",
            "[7, 1]\n",
            "heap keys {8: 2, 7: 1}\n",
            "7 [0, 0, 1, 2, 3, 4, 5, 6, 0] [1, 2, 3, 4, 5, 6, 7]\n",
            "[8, 1]\n",
            "heap keys {8: 1}\n",
            "8 [0, 0, 1, 2, 3, 4, 5, 6, 7] [1, 2, 3, 4, 5, 6, 7, 8]\n"
          ],
          "name": "stdout"
        }
      ]
    },
    {
      "cell_type": "code",
      "metadata": {
        "colab": {
          "base_uri": "https://localhost:8080/"
        },
        "id": "VBQZ9Od8R_TH",
        "outputId": "f8fd5651-c81e-491d-d3cc-4856ce611c97"
      },
      "source": [
        "A"
      ],
      "execution_count": 46,
      "outputs": [
        {
          "output_type": "execute_result",
          "data": {
            "text/plain": [
              "[0, 0, 1, 2, 3, 4, 5, 6, 7]"
            ]
          },
          "metadata": {
            "tags": []
          },
          "execution_count": 46
        }
      ]
    },
    {
      "cell_type": "code",
      "metadata": {
        "colab": {
          "base_uri": "https://localhost:8080/"
        },
        "id": "4B3DWF2OP2z1",
        "outputId": "c45cebc8-3ab7-43f4-aa40-92a41cadd954"
      },
      "source": [
        "data = [7,37,59,82,99,115,133,165,188,197]\n",
        "result=[]\n",
        "for i in data:\n",
        "  result.append(A[i])\n",
        "print(result)"
      ],
      "execution_count": 10,
      "outputs": [
        {
          "output_type": "stream",
          "text": [
            "[4685, 3626, 7238, 3068, 7909, 2834, 2029, 5415, 3649, 5499]\n"
          ],
          "name": "stdout"
        }
      ]
    },
    {
      "cell_type": "code",
      "metadata": {
        "id": "4nUco8YPG_FU"
      },
      "source": [
        ""
      ],
      "execution_count": 7,
      "outputs": []
    }
  ]
}