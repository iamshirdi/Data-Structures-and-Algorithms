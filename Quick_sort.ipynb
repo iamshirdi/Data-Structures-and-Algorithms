{
  "nbformat": 4,
  "nbformat_minor": 0,
  "metadata": {
    "colab": {
      "name": "Quick sort.ipynb",
      "provenance": [],
      "collapsed_sections": [],
      "authorship_tag": "ABX9TyPN5PBtfmRUKHf0dgU8Dgq6",
      "include_colab_link": true
    },
    "kernelspec": {
      "name": "python3",
      "display_name": "Python 3"
    },
    "language_info": {
      "name": "python"
    }
  },
  "cells": [
    {
      "cell_type": "markdown",
      "metadata": {
        "id": "view-in-github",
        "colab_type": "text"
      },
      "source": [
        "<a href=\"https://colab.research.google.com/github/iamshirdi/Data-Structures-and-Algorithms/blob/main/Quick_sort.ipynb\" target=\"_parent\"><img src=\"https://colab.research.google.com/assets/colab-badge.svg\" alt=\"Open In Colab\"/></a>"
      ]
    },
    {
      "cell_type": "code",
      "metadata": {
        "colab": {
          "base_uri": "https://localhost:8080/"
        },
        "id": "_s7Eu_XYoJ83",
        "outputId": "2a5fe847-6ade-42e0-fde4-9c6b347f8f54"
      },
      "source": [
        "!wget \"https://d3c33hcgiwev3.cloudfront.net/_32387ba40b36359a38625cbb397eee65_QuickSort.txt?Expires=1623369600&Signature=c3mwwUQOSfw62jboVTXbdMTVYpIWjXBcFqLCWWoDkAiCxQzWwvj8RTCxTClz4-KpwneG7fezmKGnnv22ZmPK5Ox0zf-R2pP3WF2AKJkb0Yj37i6-HWTOAU2Qtd8vGoZSpSBbtzRKxHUaUF6Aq7-03XYqLnzF1dD6AjhZGfpxDbY_&Key-Pair-Id=APKAJLTNE6QMUY6HBC5A\" -O list.txt"
      ],
      "execution_count": null,
      "outputs": [
        {
          "output_type": "stream",
          "text": [
            "--2021-06-09 09:14:35--  https://d3c33hcgiwev3.cloudfront.net/_32387ba40b36359a38625cbb397eee65_QuickSort.txt?Expires=1623369600&Signature=c3mwwUQOSfw62jboVTXbdMTVYpIWjXBcFqLCWWoDkAiCxQzWwvj8RTCxTClz4-KpwneG7fezmKGnnv22ZmPK5Ox0zf-R2pP3WF2AKJkb0Yj37i6-HWTOAU2Qtd8vGoZSpSBbtzRKxHUaUF6Aq7-03XYqLnzF1dD6AjhZGfpxDbY_&Key-Pair-Id=APKAJLTNE6QMUY6HBC5A\n",
            "Resolving d3c33hcgiwev3.cloudfront.net (d3c33hcgiwev3.cloudfront.net)... 13.32.80.109, 13.32.80.218, 13.32.80.49, ...\n",
            "Connecting to d3c33hcgiwev3.cloudfront.net (d3c33hcgiwev3.cloudfront.net)|13.32.80.109|:443... connected.\n",
            "HTTP request sent, awaiting response... 200 OK\n",
            "Length: 58894 (58K) [text/plain]\n",
            "Saving to: ‘list.txt’\n",
            "\n",
            "\rlist.txt              0%[                    ]       0  --.-KB/s               \rlist.txt            100%[===================>]  57.51K  --.-KB/s    in 0.02s   \n",
            "\n",
            "2021-06-09 09:14:35 (2.59 MB/s) - ‘list.txt’ saved [58894/58894]\n",
            "\n"
          ],
          "name": "stdout"
        }
      ]
    },
    {
      "cell_type": "code",
      "metadata": {
        "id": "9-vVMNcxobaH"
      },
      "source": [
        "with open('list.txt') as f:\n",
        "    lines = f.readlines()\n"
      ],
      "execution_count": null,
      "outputs": []
    },
    {
      "cell_type": "code",
      "metadata": {
        "colab": {
          "base_uri": "https://localhost:8080/"
        },
        "id": "6jluTHKiog7H",
        "outputId": "1136d773-5c75-43a7-8fd3-58817d5f85e4"
      },
      "source": [
        "ls = [int(i.strip()) for i in lines]\n",
        "ls[:5]"
      ],
      "execution_count": null,
      "outputs": [
        {
          "output_type": "execute_result",
          "data": {
            "text/plain": [
              "[2148, 9058, 7742, 3153, 6324]"
            ]
          },
          "metadata": {
            "tags": []
          },
          "execution_count": 3
        }
      ]
    },
    {
      "cell_type": "code",
      "metadata": {
        "colab": {
          "base_uri": "https://localhost:8080/"
        },
        "id": "0NUtbRsPo4bq",
        "outputId": "36c3c029-d839-4e34-a3d6-a15eea0ae1c1"
      },
      "source": [
        "len(ls)"
      ],
      "execution_count": null,
      "outputs": [
        {
          "output_type": "execute_result",
          "data": {
            "text/plain": [
              "10000"
            ]
          },
          "metadata": {
            "tags": []
          },
          "execution_count": 4
        }
      ]
    },
    {
      "cell_type": "code",
      "metadata": {
        "id": "mtJ46j-Zez9_"
      },
      "source": [
        ""
      ],
      "execution_count": null,
      "outputs": []
    },
    {
      "cell_type": "markdown",
      "metadata": {
        "id": "gUiHAs0yrTlS"
      },
      "source": [
        "### Quick Sort Partial subroutine implemented first element as pivot. complexity is n square and nlogn(random approximately)\n",
        "\n",
        "- if pivot less than number place first \n",
        "- if pivot greater than number place last\n",
        "\n",
        "or\n",
        "<pre>\n",
        "place pivot first of array\n",
        "if pivot greater than array increase pivot else dont increase- all greater elements are right side and low elements are left side\n",
        "if pivot less than array no swap/ no increase pivot \n",
        "\n",
        "(5,4,1,3,6,2)\n",
        "p = 0 , j=0\n",
        "(5,4,1,3,6,2)\n",
        "Always first element no swap but p=1 j=1\n",
        "swap,p=2 j=2\n",
        "(5,1,3,4,6,2)\n",
        "no swap,p=3 j=3\n",
        "no swap, p=3 j=4\n",
        "(5,1,3,4,6,2)\n",
        "swap at p(must be increased before); p = 4 j =5\n",
        "(5,1,3,4,2,6)\n",
        "swap first to p=4\n",
        "(2,1,3,4,5,6)\n",
        "\n",
        "\n",
        "base case\n",
        "(3,2)\n",
        "no swap 1st element p=1\n",
        "swap now\n",
        "(2,3)"
      ]
    },
    {
      "cell_type": "code",
      "metadata": {
        "colab": {
          "base_uri": "https://localhost:8080/"
        },
        "id": "Jr7QG2dugxR4",
        "outputId": "40df37a2-d1c4-486c-e9a5-3cdda8aead71"
      },
      "source": [
        "def quick_sort(ls,start,end,total):\n",
        "\n",
        "  #base case end-start  indexes (0,1)  (7,8)\n",
        "  if not len(ls[start:end])<2:\n",
        "    compares = len(ls[start:end]) - 1\n",
        "  else:\n",
        "    compares = 0\n",
        "  # print(\"compares is \",compares)\n",
        "  total.append(compares)\n",
        "  if len(ls[start:end]) <2:\n",
        "    return ls\n",
        "  \n",
        "  \n",
        "  #partition\n",
        "  pivot = start\n",
        "  first = ls[start]\n",
        "  for i in range(start+1,end):\n",
        "    if first > ls[i]:\n",
        "      pivot = pivot+1\n",
        "    \n",
        "      #no swap only pivot location for first/second element\n",
        "      if not i == start+1:\n",
        "        temp = ls[pivot]\n",
        "        ls[pivot] = ls[i]\n",
        "        ls[i] = temp \n",
        "      # print(\"list,pivot is\",ls[start:end],pivot)\n",
        "\n",
        "#no swap if pivot is same as initial point\n",
        "  if not pivot == start:\n",
        "    swap = ls[pivot]\n",
        "    ls[pivot] = ls[start]\n",
        "    ls[start] = swap\n",
        "\n",
        "\n",
        "\n",
        "  # print(\"after pivot swap\",ls[start:end], \"start:pivot:end\",start,pivot,end)\n",
        "  #left recursive\n",
        "  lst=start\n",
        "  le=pivot\n",
        "  if pivot==0:\n",
        "    pivot=pivot+1\n",
        "    rs=pivot\n",
        "  else:\n",
        "    rs=pivot+1\n",
        "  re=end\n",
        "  # print(\"left:\", ls[lst:le])\n",
        "  # print(\"right:\", ls[rs:re])\n",
        "  # print(\"indexes\", lst,le,rs,re)\n",
        "\n",
        "  quick_sort(ls,lst,le,total)\n",
        "  #right \n",
        "  quick_sort(ls,rs,re,total)\n",
        "  return ls,total\n",
        "\n",
        "# l=[10, 80, 30, 90, 40, 50, 70]\n",
        "l = [1, 5, 4, 8, 7, 6, 10, 21, 15, 3]\n",
        "\n",
        "a,t=quick_sort(l,0,len(l),[])\n",
        "print(a)"
      ],
      "execution_count": null,
      "outputs": [
        {
          "output_type": "stream",
          "text": [
            "[1, 3, 4, 5, 6, 7, 8, 10, 15, 21]\n"
          ],
          "name": "stdout"
        }
      ]
    },
    {
      "cell_type": "code",
      "metadata": {
        "id": "v8tcVuyKg2v9"
      },
      "source": [
        ""
      ],
      "execution_count": null,
      "outputs": []
    },
    {
      "cell_type": "markdown",
      "metadata": {
        "id": "bEaQvfrgg30X"
      },
      "source": [
        "# total number of comparisons used to sort with first element as pivot\n",
        "\n",
        "\n"
      ]
    },
    {
      "cell_type": "code",
      "metadata": {
        "colab": {
          "base_uri": "https://localhost:8080/"
        },
        "id": "ztlC0LvsqcEZ",
        "outputId": "37c03101-3341-4966-f9b9-72290ea819f3"
      },
      "source": [
        "def quick_sort(ls,start,end,total):\n",
        "\n",
        "  #base case end-start  indexes (0,1)  (7,8)\n",
        "  if not len(ls[start:end])<2:\n",
        "    compares = len(ls[start:end]) - 1\n",
        "  else:\n",
        "    compares = 0\n",
        "  # print(\"compares is \",compares)\n",
        "  total.append(compares)\n",
        "  if len(ls[start:end]) <2:\n",
        "    return ls\n",
        "  \n",
        "  \n",
        "  #partition\n",
        "  pivot = start\n",
        "  first = ls[start]\n",
        "  for i in range(start+1,end):\n",
        "    if first > ls[i]:\n",
        "      pivot = pivot+1\n",
        "    \n",
        "      #no swap only pivot location for first/second element\n",
        "      if not i == start+1:\n",
        "        temp = ls[pivot]\n",
        "        ls[pivot] = ls[i]\n",
        "        ls[i] = temp \n",
        "      # print(\"list,pivot is\",ls[start:end],pivot)\n",
        "\n",
        "#no swap if pivot is same as initial point\n",
        "  if not pivot == start:\n",
        "    swap = ls[pivot]\n",
        "    ls[pivot] = ls[start]\n",
        "    ls[start] = swap\n",
        "\n",
        "\n",
        "\n",
        "  # print(\"after pivot swap\",ls[start:end], \"start:pivot:end\",start,pivot,end)\n",
        "  #left recursive\n",
        "  lst=start\n",
        "  le=pivot\n",
        "  if pivot==0:\n",
        "    pivot=pivot+1\n",
        "    rs=pivot\n",
        "  else:\n",
        "    rs=pivot+1\n",
        "  re=end\n",
        "  # print(\"left:\", ls[lst:le])\n",
        "  # print(\"right:\", ls[rs:re])\n",
        "  # print(\"indexes\", lst,le,rs,re)\n",
        "\n",
        "  quick_sort(ls,lst,le,total)\n",
        "  #right \n",
        "  quick_sort(ls,rs,re,total)\n",
        "  return ls,total\n",
        "\n",
        "# l=[10, 80, 30, 90, 40, 50, 70]\n",
        "l = [1, 5, 4, 8, 7, 6, 10, 21, 15, 3]\n",
        "\n",
        "a,t=quick_sort(ls,0,len(ls),[])\n",
        "sum(t)"
      ],
      "execution_count": null,
      "outputs": [
        {
          "output_type": "execute_result",
          "data": {
            "text/plain": [
              "162085"
            ]
          },
          "metadata": {
            "tags": []
          },
          "execution_count": 6
        }
      ]
    },
    {
      "cell_type": "markdown",
      "metadata": {
        "id": "zI_dAsYnhMUc"
      },
      "source": [
        "# no of comparisions with pivot as  final element"
      ]
    },
    {
      "cell_type": "code",
      "metadata": {
        "id": "ujVLu0-Rs8hu",
        "colab": {
          "base_uri": "https://localhost:8080/"
        },
        "outputId": "7ec08b88-da03-473e-a8e1-475579e8888b"
      },
      "source": [
        "def quick_sort(ls,start,end,total):\n",
        "\n",
        "  #base case end-start  indexes (0,1)  (7,8)\n",
        "  if not len(ls[start:end])<2:\n",
        "    compares = len(ls[start:end]) - 1\n",
        "  else:\n",
        "    compares = 0\n",
        "  # print(\"compares is \",compares)\n",
        "  total.append(compares)\n",
        "  if len(ls[start:end]) <2:\n",
        "    return ls\n",
        "  \n",
        "  #swap final to initial\n",
        "  k = ls[start]\n",
        "  ls[start] = ls[end-1]\n",
        "  ls[end-1]=k\n",
        "\n",
        "  #partition\n",
        "  pivot = start\n",
        "  first = ls[start]\n",
        "  for i in range(start+1,end):\n",
        "    if first > ls[i]:\n",
        "      pivot = pivot+1\n",
        "    \n",
        "      #no swap only pivot location for first/second element\n",
        "      if not i == start+1:\n",
        "        temp = ls[pivot]\n",
        "        ls[pivot] = ls[i]\n",
        "        ls[i] = temp \n",
        "      # print(\"list,pivot is\",ls[start:end],pivot)\n",
        "\n",
        "#no swap if pivot is same as initial point\n",
        "  if not pivot == start:\n",
        "    swap = ls[pivot]\n",
        "    ls[pivot] = ls[start]\n",
        "    ls[start] = swap\n",
        "\n",
        "\n",
        "\n",
        "  # print(\"after pivot swap\",ls[start:end], \"start:pivot:end\",start,pivot,end)\n",
        "  #left recursive\n",
        "  lst=start\n",
        "  le=pivot\n",
        "  if pivot==0:\n",
        "    pivot=pivot+1\n",
        "    rs=pivot\n",
        "  else:\n",
        "    rs=pivot+1\n",
        "  re=end\n",
        "  # print(\"left:\", ls[lst:le])\n",
        "  # print(\"right:\", ls[rs:re])\n",
        "  # print(\"indexes\", lst,le,rs,re)\n",
        "\n",
        "  quick_sort(ls,lst,le,total)\n",
        "  #right \n",
        "  quick_sort(ls,rs,re,total)\n",
        "  return ls,total\n",
        "\n",
        "# l=[10, 80, 30, 90, 40, 50, 70]\n",
        "l = [1, 5, 4, 8, 7, 6, 10, 21, 15, 3]\n",
        "\n",
        "a,t=quick_sort(ls,0,len(ls),[])\n",
        "sum(t)"
      ],
      "execution_count": null,
      "outputs": [
        {
          "output_type": "execute_result",
          "data": {
            "text/plain": [
              "164123"
            ]
          },
          "metadata": {
            "tags": []
          },
          "execution_count": 5
        }
      ]
    },
    {
      "cell_type": "code",
      "metadata": {
        "id": "Aby2PW6FkSm7",
        "colab": {
          "base_uri": "https://localhost:8080/"
        },
        "outputId": "9a75c9ec-6234-416c-bec5-984040afead7"
      },
      "source": [
        "start = 3\n",
        "middle = 5\n",
        "end = 7\n",
        "l = [1,2,3,3,5,5,7,1]\n",
        "print([l[start],l[middle],l[end]])\n",
        "a = [start,middle,end]\n",
        "d={}\n",
        "for i in a:\n",
        "  d[l[i]] = i\n",
        "\n",
        "print(d)\n",
        "d[sorted(d)[1]]"
      ],
      "execution_count": null,
      "outputs": [
        {
          "output_type": "stream",
          "text": [
            "[3, 5, 1]\n",
            "{3: 3, 5: 5, 1: 7}\n"
          ],
          "name": "stdout"
        },
        {
          "output_type": "execute_result",
          "data": {
            "text/plain": [
              "3"
            ]
          },
          "metadata": {
            "tags": []
          },
          "execution_count": 60
        }
      ]
    },
    {
      "cell_type": "markdown",
      "metadata": {
        "id": "pUTxrJgIit9h"
      },
      "source": [
        "# no of comparisions with pivot as median"
      ]
    },
    {
      "cell_type": "code",
      "metadata": {
        "id": "KXN8osNK6TKH",
        "colab": {
          "base_uri": "https://localhost:8080/"
        },
        "outputId": "fc6e5f45-103a-475f-bd43-eb9630e6badd"
      },
      "source": [
        "def quick_sort(ls,start,end,total):\n",
        "\n",
        "  #base case end-start  indexes (0,1)  (7,8)\n",
        "  if not len(ls[start:end])<2:\n",
        "    compares = len(ls[start:end]) - 1\n",
        "  else:\n",
        "    compares = 0\n",
        "  # print(\"compares is \",compares)\n",
        "  total.append(compares)\n",
        "  if len(ls[start:end]) <2:\n",
        "    return ls\n",
        "  # print(ls)\n",
        "  # print(\"before median\", ls[start:end])\n",
        "\n",
        "  #swap median to initial\n",
        "\n",
        "  #even\n",
        "  if (end+start)%2==0:\n",
        "    middle = int((end+start)/2)-1\n",
        "  else:\n",
        "    middle = int((end+start)/2)\n",
        "\n",
        "  # print(\"s:m:e-1\",start,middle,end-1)\n",
        "  #sort values\n",
        "  a = [start,middle,end-1]\n",
        "  d={}\n",
        "  for i in a:\n",
        "    d[ls[i]] = i\n",
        "  median = d[sorted(d)[1]]\n",
        "  # print(\"a,d\",a,d)\n",
        "  # print(\"sorted d\",sorted(d))\n",
        "\n",
        "\n",
        "  # print(\"median\",median)\n",
        "  if not median == start:\n",
        "    temp = ls[start]\n",
        "    ls[start] =ls[median]\n",
        "    ls[median] = temp\n",
        "\n",
        "  # print(\"after median\", ls[start:end])\n",
        "  #partition\n",
        "  pivot = start\n",
        "  first = ls[start]\n",
        "  for i in range(start+1,end):\n",
        "    if first > ls[i]:\n",
        "      pivot = pivot+1\n",
        "    \n",
        "      #no swap only pivot location for first/second element\n",
        "      if not i == start+1:\n",
        "        temp = ls[pivot]\n",
        "        ls[pivot] = ls[i]\n",
        "        ls[i] = temp \n",
        "      # print(\"list,pivot is\",ls[start:end],pivot)\n",
        "\n",
        "#no swap if pivot is same as initial point\n",
        "  if not pivot == start:\n",
        "    swap = ls[pivot]\n",
        "    ls[pivot] = ls[start]\n",
        "    ls[start] = swap\n",
        "\n",
        "\n",
        "\n",
        "  # print(\"after pivot swap\",ls[start:end], \"start:pivot:end\",start,pivot,end)\n",
        "  #left recursive\n",
        "  lst=start\n",
        "  le=pivot\n",
        "  if pivot==0:\n",
        "    pivot=pivot+1\n",
        "    rs=pivot\n",
        "  else:\n",
        "    rs=pivot+1\n",
        "  re=end\n",
        "  # print(\"left:\", ls[lst:le])\n",
        "  # print(\"right:\", ls[rs:re])\n",
        "  # print(\"indexes\", lst,le,rs,re)\n",
        "\n",
        "  quick_sort(ls,lst,le,total)\n",
        "  #right \n",
        "  quick_sort(ls,rs,re,total)\n",
        "  return ls,total\n",
        "\n",
        "# l=[10, 80, 30, 90, 40, 50, 70]\n",
        "l = [2, 20, 1, 15, 3, 11, 13, 6, 16, 10, 19, 5, 4, 9, 8, 14, 18, 17, 7, 12] \n",
        "# a,t=quick_sort(l,0,len(l),[])\n",
        "a,t=quick_sort(ls,0,len(ls),[])\n",
        "sum(t)\n"
      ],
      "execution_count": null,
      "outputs": [
        {
          "output_type": "execute_result",
          "data": {
            "text/plain": [
              "138382"
            ]
          },
          "metadata": {
            "tags": []
          },
          "execution_count": 4
        }
      ]
    },
    {
      "cell_type": "code",
      "metadata": {
        "id": "VtGSjpXalifU"
      },
      "source": [
        ""
      ],
      "execution_count": null,
      "outputs": []
    }
  ]
}