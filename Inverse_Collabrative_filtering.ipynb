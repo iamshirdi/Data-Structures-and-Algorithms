{
  "nbformat": 4,
  "nbformat_minor": 0,
  "metadata": {
    "colab": {
      "name": "Inverse Collabrative filtering.ipynb",
      "provenance": [],
      "collapsed_sections": []
    },
    "kernelspec": {
      "name": "python3",
      "display_name": "Python 3"
    },
    "language_info": {
      "name": "python"
    }
  },
  "cells": [
    {
      "cell_type": "markdown",
      "metadata": {
        "id": "TdWCCvWk3zGH"
      },
      "source": [
        "# Merge Sort Inverse Algorithm\n",
        "\n"
      ]
    },
    {
      "cell_type": "markdown",
      "metadata": {
        "id": "jbagjxWhM1qu"
      },
      "source": [
        "### Explaination of Divide and Conqueror sort\n",
        "- It's O(n * log(n)), not O(log(n)). The entire input must be iterated through, and this must occur O(log(n)) times (the input can only be halved O(log(n)) times). n items iterated log(n) times gives O(n log(n)).\n",
        "\n",
        "\n",
        "\n",
        "<pre>\n",
        "2 4 6          1 3 5 \n",
        "2      4 6     1     3 5 \n",
        "\n",
        "merge\n",
        "2 4 6        1 3 5\n",
        "\n",
        "1 2 3 4   5 6 7 8\n",
        "1 2    3 4   5 6  7  8\n",
        "1   2   3    4    5   6   7    8\n",
        "\n",
        "```\n",
        "# This is formatted as code\n",
        "```\n",
        "\n"
      ]
    },
    {
      "cell_type": "markdown",
      "metadata": {
        "id": "6vi8-6NNlcWE"
      },
      "source": [
        "# Brute Force Sorting"
      ]
    },
    {
      "cell_type": "code",
      "metadata": {
        "colab": {
          "base_uri": "https://localhost:8080/"
        },
        "id": "xtJL1CdSlP7T",
        "outputId": "c9879cff-fc82-4b11-e4f3-534cbe0e08ef"
      },
      "source": [
        "%%time\n",
        "temp = [7,6,5,4,3,2]\n",
        "res = []\n",
        "for t in range(0,len(temp)):\n",
        "  for t2 in range(t,len(temp)):\n",
        "    if temp[t2]<temp[t]:\n",
        "      #swap\n",
        "      k = temp[t]\n",
        "      temp[t] = temp[t2]\n",
        "      temp[t2] = k\n",
        "      print(\"t\",t,\"t2\",t2,\"temp\",temp)\n",
        "\n",
        "print(temp)"
      ],
      "execution_count": 18,
      "outputs": [
        {
          "output_type": "stream",
          "text": [
            "t 0 t2 1 temp [6, 7, 5, 4, 3, 2]\n",
            "t 0 t2 2 temp [5, 7, 6, 4, 3, 2]\n",
            "t 0 t2 3 temp [4, 7, 6, 5, 3, 2]\n",
            "t 0 t2 4 temp [3, 7, 6, 5, 4, 2]\n",
            "t 0 t2 5 temp [2, 7, 6, 5, 4, 3]\n",
            "t 1 t2 2 temp [2, 6, 7, 5, 4, 3]\n",
            "t 1 t2 3 temp [2, 5, 7, 6, 4, 3]\n",
            "t 1 t2 4 temp [2, 4, 7, 6, 5, 3]\n",
            "t 1 t2 5 temp [2, 3, 7, 6, 5, 4]\n",
            "t 2 t2 3 temp [2, 3, 6, 7, 5, 4]\n",
            "t 2 t2 4 temp [2, 3, 5, 7, 6, 4]\n",
            "t 2 t2 5 temp [2, 3, 4, 7, 6, 5]\n",
            "t 3 t2 4 temp [2, 3, 4, 6, 7, 5]\n",
            "t 3 t2 5 temp [2, 3, 4, 5, 7, 6]\n",
            "t 4 t2 5 temp [2, 3, 4, 5, 6, 7]\n",
            "[2, 3, 4, 5, 6, 7]\n",
            "CPU times: user 4.77 ms, sys: 3.07 ms, total: 7.83 ms\n",
            "Wall time: 9.55 ms\n"
          ],
          "name": "stdout"
        }
      ]
    },
    {
      "cell_type": "markdown",
      "metadata": {
        "id": "sS6uFz_e1zPt"
      },
      "source": [
        "# sorted comparision work\n",
        "- compare once among two lists and insert since the list is already sorted its the least when coming from first so we can insert directly without worring about others"
      ]
    },
    {
      "cell_type": "code",
      "metadata": {
        "colab": {
          "base_uri": "https://localhost:8080/"
        },
        "id": "k-scZOV_y1IA",
        "outputId": "2bcab240-5b55-4293-ee86-8befc3576fce"
      },
      "source": [
        "#sorted comparision\n",
        "n1=[3]\n",
        "n2=[1,5]\n",
        "merge=[]\n",
        "i = 0\n",
        "j = 0\n",
        "a=len(n1)\n",
        "b=len(n2)\n",
        "while True:\n",
        "  if i==a:\n",
        "    #add remaining \n",
        "    merge = merge +n2[j:]\n",
        "    break\n",
        "  if j==b:\n",
        "    #add remaining \n",
        "    merge = merge +n1[i:]\n",
        "    break\n",
        "  print(i,j)\n",
        "  if n1[i]>n2[j]:\n",
        "    merge.append(n2[j])\n",
        "    j+=1\n",
        "  else:\n",
        "    merge.append(n1[i])\n",
        "    i+=1\n",
        "    \n",
        "\n",
        "print(merge)\n"
      ],
      "execution_count": 84,
      "outputs": [
        {
          "output_type": "stream",
          "text": [
            "0 0\n",
            "0 1\n",
            "[1, 3, 5]\n"
          ],
          "name": "stdout"
        }
      ]
    },
    {
      "cell_type": "markdown",
      "metadata": {
        "id": "h0HLRZ7uwv4I"
      },
      "source": [
        "# No of Inverses using merge sort"
      ]
    },
    {
      "cell_type": "code",
      "metadata": {
        "colab": {
          "base_uri": "https://localhost:8080/"
        },
        "id": "E-L92kxLAFvs",
        "outputId": "5a804f54-fb67-4700-fd98-e94cf074acd3"
      },
      "source": [
        "n1 =[1,3,5]\n",
        "n2 = [2,4,6]\n",
        "\n",
        "merge=[]\n",
        "inverse=0\n",
        "i = 0\n",
        "j = 0\n",
        "a=len(n1)\n",
        "b=len(n2)\n",
        "while True:\n",
        "  if i==a:\n",
        "    #add remaining \n",
        "    merge = merge +n2[j:]\n",
        "    break\n",
        "  if j==b:\n",
        "    #add remaining \n",
        "    merge = merge +n1[i:]\n",
        "    break\n",
        "  print(i,j)\n",
        "  if n1[i]>n2[j]:\n",
        "    inverse=inverse+a-i\n",
        "    merge.append(n2[j])\n",
        "    j+=1\n",
        "  else:\n",
        "    merge.append(n1[i])\n",
        "    i+=1\n",
        "print(inverse,merge)"
      ],
      "execution_count": 76,
      "outputs": [
        {
          "output_type": "stream",
          "text": [
            "0 0\n",
            "1 0\n",
            "1 1\n",
            "2 1\n",
            "2 2\n",
            "3 [1, 2, 3, 4, 5, 6]\n"
          ],
          "name": "stdout"
        }
      ]
    },
    {
      "cell_type": "markdown",
      "metadata": {
        "id": "0UYYgpStlkEy"
      },
      "source": [
        "# Merge Sort Divide and Conqueror"
      ]
    },
    {
      "cell_type": "code",
      "metadata": {
        "colab": {
          "base_uri": "https://localhost:8080/"
        },
        "id": "IoQUjTqO28d0",
        "outputId": "cf274449-aa20-4aa3-fb92-4e4b1d2fe0c6"
      },
      "source": [
        "%%time\n",
        "from math import floor\n",
        "\n",
        "def mergesort(array,length):\n",
        "  #base case\n",
        "  if length == 1:\n",
        "    # sort it\n",
        "    if len(array)>1 and array[-1]<array[-2]:\n",
        "      k=array[-2]\n",
        "      array[-2] =array[-1]\n",
        "      array[-1] =k\n",
        "\n",
        "    return array\n",
        "  \n",
        "  #recursion\n",
        "  mid = floor(length/2)\n",
        "  arr1 = array[0:mid+1]\n",
        "  arr2 = array[mid+1:length+1]\n",
        "  print(\"before pass\",length,mid,arr1,arr2)\n",
        "  n1 = mergesort(arr1,mid)\n",
        "  n2 = mergesort(arr2,mid)\n",
        "  print(\"after merge\",length,mid,\"arrray\",arr1,arr2,\"left and right\",n1,n2)\n",
        "\n",
        "\n",
        "  #work done \n",
        "\n",
        "  merge=[]\n",
        "  i = 0\n",
        "  j = 0\n",
        "  a=len(n1)\n",
        "  b=len(n2)\n",
        "  while True:\n",
        "    if i==a:\n",
        "      #add remaining \n",
        "      merge = merge +n2[j:]\n",
        "      break\n",
        "    if j==b:\n",
        "      #add remaining \n",
        "      merge = merge +n1[i:]\n",
        "      break\n",
        "    print(i,j)\n",
        "    if n1[i]>n2[j]:\n",
        "      merge.append(n2[j])\n",
        "      j+=1\n",
        "    else:\n",
        "      merge.append(n1[i])\n",
        "      i+=1\n",
        "\n",
        "  print(\"merge is\",merge)\n",
        "  return merge\n",
        "\n",
        "# test1=[1,3,5,2,4,6]\n",
        "#3,2 5,4 5,2\n",
        "test1=[7,9,12,5,6,8,10]\n",
        "# test1=[6,5,4,3,2,1]\n",
        "s = mergesort(test1,len(test1))\n",
        "print(\"result is\",s)"
      ],
      "execution_count": 174,
      "outputs": [
        {
          "output_type": "stream",
          "text": [
            "before pass 7 3 [7, 9, 12] [5, 6, 8, 10]\n",
            "before pass 3 1 [7] [9, 12]\n",
            "after merge 3 1 arrray [7] [9, 12] left and right [7] [9, 12]\n",
            "0 0\n",
            "merge is [7, 9, 12]\n",
            "before pass 3 1 [5] [6, 8, 10]\n",
            "after merge 3 1 arrray [5] [6, 8, 10] left and right [5] [6, 8, 10]\n",
            "0 0\n",
            "merge is [5, 6, 8, 10]\n",
            "after merge 7 3 arrray [7, 9, 12] [5, 6, 8, 10] left and right [7, 9, 12] [5, 6, 8, 10]\n",
            "0 0\n",
            "0 1\n",
            "0 2\n",
            "1 2\n",
            "1 3\n",
            "2 3\n",
            "merge is [5, 6, 7, 8, 9, 10, 12]\n",
            "result is [5, 6, 7, 8, 9, 10, 12]\n",
            "CPU times: user 5.21 ms, sys: 0 ns, total: 5.21 ms\n",
            "Wall time: 4.33 ms\n"
          ],
          "name": "stdout"
        }
      ]
    },
    {
      "cell_type": "markdown",
      "metadata": {
        "id": "CGqOPqxM3su3"
      },
      "source": [
        "# Inverse Find using merge sort"
      ]
    },
    {
      "cell_type": "code",
      "metadata": {
        "colab": {
          "base_uri": "https://localhost:8080/"
        },
        "id": "PRC-WosryrIh",
        "outputId": "a9c2841d-65f8-44a2-d8fd-f633a0ba748c"
      },
      "source": [
        "%%time\n",
        "from math import floor\n",
        "\n",
        "def mergesort(array,length):\n",
        "  #base case\n",
        "  inverse = 0\n",
        "  if length == 1:\n",
        "    \n",
        "    if len(array)>1 and array[-1]<array[-2]:\n",
        "      k=array[-2]\n",
        "      array[-2] =array[-1]\n",
        "      array[-1] =k\n",
        "      inverse+=1\n",
        "\n",
        "    return array, inverse;\n",
        "  \n",
        "  #recursion\n",
        "  mid = floor(length/2)\n",
        "  arr1 = array[0:mid+1]\n",
        "  arr2 = array[mid+1:length+1]\n",
        "  # print(\"before pass\",length,mid,arr1,arr2)\n",
        "  n1,inverse1 = mergesort(arr1,mid)\n",
        "  n2,inverse2 = mergesort(arr2,mid)\n",
        "  # print(\"after merge\",length,mid,\"arrray\",arr1,arr2,\"left and right\",n1,n2)\n",
        "\n",
        "  inverse =inverse1+inverse2\n",
        "  #work done \n",
        "\n",
        "  merge=[]\n",
        "  i = 0\n",
        "  j = 0\n",
        "  a=len(n1)\n",
        "  b=len(n2)\n",
        "  while True:\n",
        "    if i==a:\n",
        "      #add remaining \n",
        "      merge = merge +n2[j:]\n",
        "      break\n",
        "    if j==b:\n",
        "      #add remaining \n",
        "      merge = merge +n1[i:]\n",
        "      break\n",
        "    # print(i,j)\n",
        "    if n1[i]>n2[j]:\n",
        "      inverse=inverse+a-i\n",
        "      merge.append(n2[j])\n",
        "      j+=1\n",
        "    else:\n",
        "      merge.append(n1[i])\n",
        "      i+=1\n",
        "  # print('inverse',inverse)\n",
        "  # print(\"merge is\",merge)\n",
        "  return merge,inverse;\n",
        "\n",
        "# test1=[1,3,5,2,4,6]\n",
        "#3,2 5,4 5,2\n",
        "# test1=[7,9,12,5,6,8,10]\n",
        "# test1=[6,5,4,3,2,1]\n",
        "test1=[1,4,7,2,3,10000,12000,150,170,15666,55,77,1234,456788,234667]\n",
        "s,i = mergesort(test1,len(test1))\n",
        "print(\"result is\",i)"
      ],
      "execution_count": 186,
      "outputs": [
        {
          "output_type": "stream",
          "text": [
            "result is 22\n",
            "CPU times: user 1.1 ms, sys: 0 ns, total: 1.1 ms\n",
            "Wall time: 1.11 ms\n"
          ],
          "name": "stdout"
        }
      ]
    },
    {
      "cell_type": "code",
      "metadata": {
        "colab": {
          "base_uri": "https://localhost:8080/"
        },
        "id": "5VeNg99x1gLi",
        "outputId": "4cf5fc2e-5616-4bb3-ff6b-52464e0b074d"
      },
      "source": [
        "!wget \"https://d3c33hcgiwev3.cloudfront.net/_bcb5c6658381416d19b01bfc1d3993b5_IntegerArray.txt?Expires=1622764800&Signature=OAVroKdnHKsEMvVwepSH94kiBtFluM0-DY-VbEQ9LGgT~EttjXeV6ayclM7LcDbgYZhMFi-N2T5DgOYFy1i4dKyWZIk01Mdojp3afnDq0OHsnZWdBqqHvDjGpR8pkUjoV9pRovr4Eahly90ih3N5H0kUTJUsW3LYfJBidbtykYo_&Key-Pair-Id=APKAJLTNE6QMUY6HBC5A\" -O \"integerFile\""
      ],
      "execution_count": 203,
      "outputs": [
        {
          "output_type": "stream",
          "text": [
            "--2021-06-02 14:42:20--  https://d3c33hcgiwev3.cloudfront.net/_bcb5c6658381416d19b01bfc1d3993b5_IntegerArray.txt?Expires=1622764800&Signature=OAVroKdnHKsEMvVwepSH94kiBtFluM0-DY-VbEQ9LGgT~EttjXeV6ayclM7LcDbgYZhMFi-N2T5DgOYFy1i4dKyWZIk01Mdojp3afnDq0OHsnZWdBqqHvDjGpR8pkUjoV9pRovr4Eahly90ih3N5H0kUTJUsW3LYfJBidbtykYo_&Key-Pair-Id=APKAJLTNE6QMUY6HBC5A\n",
            "Resolving d3c33hcgiwev3.cloudfront.net (d3c33hcgiwev3.cloudfront.net)... 52.85.205.114, 52.85.205.197, 52.85.205.226, ...\n",
            "Connecting to d3c33hcgiwev3.cloudfront.net (d3c33hcgiwev3.cloudfront.net)|52.85.205.114|:443... connected.\n",
            "HTTP request sent, awaiting response... 200 OK\n",
            "Length: 688895 (673K) [text/plain]\n",
            "Saving to: ‘integerFile’\n",
            "\n",
            "integerFile         100%[===================>] 672.75K  1.73MB/s    in 0.4s    \n",
            "\n",
            "2021-06-02 14:42:20 (1.73 MB/s) - ‘integerFile’ saved [688895/688895]\n",
            "\n"
          ],
          "name": "stdout"
        }
      ]
    },
    {
      "cell_type": "code",
      "metadata": {
        "colab": {
          "base_uri": "https://localhost:8080/"
        },
        "id": "ZZin5OEg2BCg",
        "outputId": "b2c99345-7c45-48c0-c8c5-4c09e383e3ec"
      },
      "source": [
        "!ls"
      ],
      "execution_count": 204,
      "outputs": [
        {
          "output_type": "stream",
          "text": [
            "'_bcb5c6658381416d19b01bfc1d3993b5_IntegerArray.txt?Expires=1622764800&Signature=OAVroKdnHKsEMvVwepSH94kiBtFluM0-DY-VbEQ9LGgT~EttjXeV6ayclM7LcDbgYZhMFi-N2T5DgOYFy1i4dKyWZIk01Mdojp3afnDq0OHsnZWdBqqHvDjGpR8pkUjoV9pRovr4Eahly90ih3N5H0kUTJUs'\n",
            "'_bcb5c6658381416d19b01bfc1d3993b5_IntegerArray.txt?Expires=1622764800&Signature=OAVroKdnHKsEMvVwepSH94kiBtFluM0-DY-VbEQ9LGgT~EttjXeV6ayclM7LcDbgYZhMFi-N2T5DgOYFy1i4dKyWZIk01Mdojp3afnDq0OHsnZWdBqqHvDjGpR8pkUjoV9pRovr4Eahly90ih3N5H0kUTJUs.1'\n",
            "'_bcb5c6658381416d19b01bfc1d3993b5_IntegerArray.txt?Expires=1622764800&Signature=OAVroKdnHKsEMvVwepSH94kiBtFluM0-DY-VbEQ9LGgT~EttjXeV6ayclM7LcDbgYZhMFi-N2T5DgOYFy1i4dKyWZIk01Mdojp3afnDq0OHsnZWdBqqHvDjGpR8pkUjoV9pRovr4Eahly90ih3N5H0kUTJUs.2'\n",
            " integerArray\n",
            " integerArray.txt\n",
            " integerFile\n",
            " sample_data\n"
          ],
          "name": "stdout"
        }
      ]
    },
    {
      "cell_type": "code",
      "metadata": {
        "colab": {
          "base_uri": "https://localhost:8080/"
        },
        "id": "64DnlZKY13pB",
        "outputId": "82175bed-7e5f-4ca3-f91d-db433767ce94"
      },
      "source": [
        "f = open (\"integerFile\",'r').read().splitlines()\n",
        "f[:5]\n",
        "#This file contains all of the 100,000 integers between 1 and 100,000 (inclusive) in some order, with no integer repeated.\n"
      ],
      "execution_count": 205,
      "outputs": [
        {
          "output_type": "execute_result",
          "data": {
            "text/plain": [
              "['54044', '14108', '79294', '29649', '25260']"
            ]
          },
          "metadata": {
            "tags": []
          },
          "execution_count": 205
        }
      ]
    },
    {
      "cell_type": "code",
      "metadata": {
        "colab": {
          "base_uri": "https://localhost:8080/"
        },
        "id": "zTScfyxyKd2h",
        "outputId": "b7a84529-63e3-42d0-b0b3-01580b1333fa"
      },
      "source": [
        "f[:10]"
      ],
      "execution_count": 206,
      "outputs": [
        {
          "output_type": "execute_result",
          "data": {
            "text/plain": [
              "['54044',\n",
              " '14108',\n",
              " '79294',\n",
              " '29649',\n",
              " '25260',\n",
              " '60660',\n",
              " '2995',\n",
              " '53777',\n",
              " '49689',\n",
              " '9083']"
            ]
          },
          "metadata": {
            "tags": []
          },
          "execution_count": 206
        }
      ]
    },
    {
      "cell_type": "code",
      "metadata": {
        "id": "cC3_Q2XGKuf8"
      },
      "source": [
        "items = []\n",
        "\n",
        "for line in f:   \n",
        "\n",
        "     line = int(line.replace('\\n', ''))   \n",
        "\n",
        "     items.append(line)"
      ],
      "execution_count": 207,
      "outputs": []
    },
    {
      "cell_type": "code",
      "metadata": {
        "colab": {
          "base_uri": "https://localhost:8080/"
        },
        "id": "J9cN-YIMKzEv",
        "outputId": "4d2e55ba-207e-4ad4-8a3a-19e67fabb494"
      },
      "source": [
        "items[:10]"
      ],
      "execution_count": 208,
      "outputs": [
        {
          "output_type": "execute_result",
          "data": {
            "text/plain": [
              "[54044, 14108, 79294, 29649, 25260, 60660, 2995, 53777, 49689, 9083]"
            ]
          },
          "metadata": {
            "tags": []
          },
          "execution_count": 208
        }
      ]
    },
    {
      "cell_type": "code",
      "metadata": {
        "colab": {
          "base_uri": "https://localhost:8080/"
        },
        "id": "j9_cXUIk2DDx",
        "outputId": "d5096846-f784-4846-951c-3b0f087d2a23"
      },
      "source": [
        "test =items\n",
        "s,inverse = mergesort(test,len(test))\n",
        "print(inverse)\n",
        "#2407905288\n"
      ],
      "execution_count": 210,
      "outputs": [
        {
          "output_type": "stream",
          "text": [
            "2397819672\n"
          ],
          "name": "stdout"
        }
      ]
    },
    {
      "cell_type": "markdown",
      "metadata": {
        "id": "6dFDf7NwC_lG"
      },
      "source": [
        "#Brute Inverse"
      ]
    },
    {
      "cell_type": "code",
      "metadata": {
        "id": "pewBwNzeC8Ns"
      },
      "source": [
        "%% time\n",
        "def getInvCount(arr, n):\n",
        "  \n",
        "    inv_count = 0\n",
        "    for i in range(n):\n",
        "        for j in range(i + 1, n):\n",
        "            if (arr[i] > arr[j]):\n",
        "                inv_count += 1\n",
        "  \n",
        "    return inv_count\n",
        "c=getInvCount(f,len(f))\n",
        "print(c)"
      ],
      "execution_count": 210,
      "outputs": []
    },
    {
      "cell_type": "code",
      "metadata": {
        "colab": {
          "base_uri": "https://localhost:8080/"
        },
        "id": "0ouCm55oEaPr",
        "outputId": "fe160822-5753-4700-c83b-cc64c498213c"
      },
      "source": [
        "# Python 3 program to count inversions in an array\n",
        "\n",
        "# Function to Use Inversion Count\n",
        "def mergeSort(arr, n):\n",
        "\t# A temp_arr is created to store\n",
        "\t# sorted array in merge function\n",
        "\ttemp_arr = [0]*n\n",
        "\treturn _mergeSort(arr, temp_arr, 0, n-1)\n",
        "\n",
        "# This Function will use MergeSort to count inversions\n",
        "\n",
        "def _mergeSort(arr, temp_arr, left, right):\n",
        "\n",
        "\t# A variable inv_count is used to store\n",
        "\t# inversion counts in each recursive call\n",
        "\n",
        "\tinv_count = 0\n",
        "\n",
        "\t# We will make a recursive call if and only if\n",
        "\t# we have more than one elements\n",
        "\n",
        "\tif left < right:\n",
        "\n",
        "\t\t# mid is calculated to divide the array into two subarrays\n",
        "\t\t# Floor division is must in case of python\n",
        "\n",
        "\t\tmid = (left + right)//2\n",
        "\n",
        "\t\t# It will calculate inversion\n",
        "\t\t# counts in the left subarray\n",
        "\n",
        "\t\tinv_count += _mergeSort(arr, temp_arr,\n",
        "\t\t\t\t\t\t\t\t\tleft, mid)\n",
        "\n",
        "\t\t# It will calculate inversion\n",
        "\t\t# counts in right subarray\n",
        "\n",
        "\t\tinv_count += _mergeSort(arr, temp_arr,\n",
        "\t\t\t\t\t\t\t\tmid + 1, right)\n",
        "\n",
        "\t\t# It will merge two subarrays in\n",
        "\t\t# a sorted subarray\n",
        "\n",
        "\t\tinv_count += merge(arr, temp_arr, left, mid, right)\n",
        "\treturn inv_count\n",
        "\n",
        "# This function will merge two subarrays\n",
        "# in a single sorted subarray\n",
        "def merge(arr, temp_arr, left, mid, right):\n",
        "\ti = left\t # Starting index of left subarray\n",
        "\tj = mid + 1 # Starting index of right subarray\n",
        "\tk = left\t # Starting index of to be sorted subarray\n",
        "\tinv_count = 0\n",
        "\n",
        "\t# Conditions are checked to make sure that\n",
        "\t# i and j don't exceed their\n",
        "\t# subarray limits.\n",
        "\n",
        "\twhile i <= mid and j <= right:\n",
        "\n",
        "\t\t# There will be no inversion if arr[i] <= arr[j]\n",
        "\n",
        "\t\tif arr[i] <= arr[j]:\n",
        "\t\t\ttemp_arr[k] = arr[i]\n",
        "\t\t\tk += 1\n",
        "\t\t\ti += 1\n",
        "\t\telse:\n",
        "\t\t\t# Inversion will occur.\n",
        "\t\t\ttemp_arr[k] = arr[j]\n",
        "\t\t\tinv_count += (mid-i + 1)\n",
        "\t\t\tk += 1\n",
        "\t\t\tj += 1\n",
        "\n",
        "\t# Copy the remaining elements of left\n",
        "\t# subarray into temporary array\n",
        "\twhile i <= mid:\n",
        "\t\ttemp_arr[k] = arr[i]\n",
        "\t\tk += 1\n",
        "\t\ti += 1\n",
        "\n",
        "\t# Copy the remaining elements of right\n",
        "\t# subarray into temporary array\n",
        "\twhile j <= right:\n",
        "\t\ttemp_arr[k] = arr[j]\n",
        "\t\tk += 1\n",
        "\t\tj += 1\n",
        "\n",
        "\t# Copy the sorted subarray into Original array\n",
        "\tfor loop_var in range(left, right + 1):\n",
        "\t\tarr[loop_var] = temp_arr[loop_var]\n",
        "\t\t\n",
        "\treturn inv_count\n",
        "\n",
        "# Driver Code\n",
        "# Given array is\n",
        "arr = f\n",
        "n = len(arr)\n",
        "result = mergeSort(arr, n)\n",
        "print(\"Number of inversions are\", result)\n",
        "\n",
        "# This code is contributed by ankush_953\n"
      ],
      "execution_count": 193,
      "outputs": [
        {
          "output_type": "stream",
          "text": [
            "Number of inversions are 2397819672\n"
          ],
          "name": "stdout"
        }
      ]
    },
    {
      "cell_type": "code",
      "metadata": {
        "id": "K9iidfYY2jVp"
      },
      "source": [
        ""
      ],
      "execution_count": 129,
      "outputs": []
    },
    {
      "cell_type": "code",
      "metadata": {
        "id": "WfhOcMhZ8ktA"
      },
      "source": [
        ""
      ],
      "execution_count": null,
      "outputs": []
    }
  ]
}